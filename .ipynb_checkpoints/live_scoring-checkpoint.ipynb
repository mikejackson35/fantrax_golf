{
 "cells": [
  {
   "cell_type": "code",
   "execution_count": 1,
   "id": "1549c272",
   "metadata": {},
   "outputs": [
    {
     "ename": "IndentationError",
     "evalue": "unexpected indent (utils.py, line 140)",
     "output_type": "error",
     "traceback": [
      "Traceback \u001b[1;36m(most recent call last)\u001b[0m:\n",
      "\u001b[0m  File \u001b[0;32m~\\anaconda3\\Lib\\site-packages\\IPython\\core\\interactiveshell.py:3526\u001b[0m in \u001b[0;35mrun_code\u001b[0m\n    exec(code_obj, self.user_global_ns, self.user_ns)\u001b[0m\n",
      "\u001b[1;36m  Cell \u001b[1;32mIn[1], line 4\u001b[1;36m\n\u001b[1;33m    from utils import highlight_rows, remove_T_from_positions, get_inside_cut, teams_dict, team_color,fix_names\u001b[1;36m\n",
      "\u001b[1;36m  File \u001b[1;32m~\\Desktop\\fantrax_golf\\utils.py:140\u001b[1;36m\u001b[0m\n\u001b[1;33m    names = dg_live['player'].str.split(expand=True)\u001b[0m\n\u001b[1;37m    ^\u001b[0m\n\u001b[1;31mIndentationError\u001b[0m\u001b[1;31m:\u001b[0m unexpected indent\n"
     ]
    }
   ],
   "source": [
    "import pandas as pd\n",
    "import numpy as np\n",
    "import plotly.express as px\n",
    "from utils import highlight_rows, remove_T_from_positions, get_inside_cut, teams_dict, team_color,fix_names\n",
    "\n",
    "pd.set_option('display.max_columns', None)\n"
   ]
  },
  {
   "cell_type": "code",
   "execution_count": null,
   "id": "17726471",
   "metadata": {},
   "outputs": [],
   "source": [
    "matchups = {                                    # enter weekly matchups here\n",
    "    'unit_circle':1,\n",
    "    'Putt Pirates':2,\n",
    "    'AlphaWired':3,\n",
    "    'txmoonshine':2,\n",
    "    'Sneads Foot':1,\n",
    "    'New Team 4':4,\n",
    "    'Team Gamble':4,\n",
    "    'Philly919':3\n",
    "}\n",
    "\n",
    "def fix_names(dg):\n",
    "        names = dg['player'].str.split(expand=True)                  \n",
    "        names[0] = names[0].str.rstrip(\",\")\n",
    "        names[1] = names[1].str.rstrip(\",\")\n",
    "        names['player'] = names[1] + \" \" + names[0]\n",
    "\n",
    "        names['player'] = np.where(names['player']=='Matt Fitzpatrick', 'Matthew Fitzpatrick', names['player'])\n",
    "        names['player'] = np.where(names['player']=='Si Kim', 'Si Woo Kim', names['player'])\n",
    "        names['player'] = np.where(names['player']=='Min Lee', 'Min Woo Lee', names['player'])\n",
    "        names['player'] = np.where(names['player']=='Byeong An', 'Byeong Hun An', names['player'])\n",
    "        names['player'] = np.where(names['player']=='Rooyen Van', 'Erik Van Rooyen', names['player'])\n",
    "        names['player'] = np.where(names['player']=='Vince Whaley', 'Vincent Whaley', names['player'])\n",
    "        names['player'] = np.where(names['player']=='Kevin Yu', 'kevin Yu', names['player'])\n",
    "        names['player'] = np.where(names['player']=='Kyounghoon Lee', 'Kyoung-Hoon Lee', names['player'])\n",
    "        return names.player"
   ]
  },
  {
   "cell_type": "code",
   "execution_count": null,
   "id": "3c12c4eb",
   "metadata": {
    "scrolled": false
   },
   "outputs": [],
   "source": [
    "## live scoring feed\n",
    "\n",
    "file = \"https://feeds.datagolf.com/preds/live-tournament-stats?stats=sg_putt,sg_arg,sg_app,sg_ott,sg_t2g,sg_bs,sg_total,distance,accuracy,gir,prox_fw,prox_rgh,scrambling&round=event_avg&display=value&file_format=csv&key=e297e933c3ad47d71ec1626c299e\"\n",
    "\n",
    "live = round(pd.read_csv(file),2).rename(columns={'player_name':'player'})\n",
    "\n",
    "names = live['player'].str.split(expand=True)\n",
    "names[0] = names[0].str.rstrip(\",\")\n",
    "names[1] = names[1].str.rstrip(\",\")\n",
    "names['player'] = names[1] + \" \" + names[0]\n",
    "\n",
    "names['player'] = np.where(names['player']=='Matt Fitzpatrick', 'Matthew Fitzpatrick', names['player'])\n",
    "names['player'] = np.where(names['player']=='Si Kim', 'Si Woo Kim', names['player'])\n",
    "names['player'] = np.where(names['player']=='Min Lee', 'Min Woo Lee', names['player'])\n",
    "names['player'] = np.where(names['player']=='Byeong An', 'Byeong Hun An', names['player'])\n",
    "names['player'] = np.where(names['player']=='Rooyen Van', 'Erik Van Rooyen', names['player'])\n",
    "names['player'] = np.where(names['player']=='Vince Whaley', 'Vincent Whaley', names['player'])\n",
    "names['player'] = np.where(names['player']=='Kevin Yu', 'kevin Yu', names['player'])\n",
    "names['player'] = np.where(names['player']=='Kyounghoon Lee', 'Kyoung-Hoon Lee', names['player'])\n",
    "live = live.set_index(fix_names(live))\n",
    "live"
   ]
  },
  {
   "cell_type": "code",
   "execution_count": null,
   "id": "0812182d",
   "metadata": {},
   "outputs": [],
   "source": [
    "## fantrax rosters\n",
    "\n",
    "fx = r\"C:\\Users\\mikej\\Desktop\\fantrax_golf\\fantrax.csv\"\n",
    "\n",
    "teams = pd.read_csv(fx ,usecols=['Player','Status','Roster Status'])\n",
    "teams.columns = ['player','team','active_reserve']\n",
    "# teams_dict = {'919':'Philly919','u_c':'unit_circle','NT 8':'Sneads Foot','NT 4':'New Team 4','txms':'txmoonshine','MG':'Team Gamble','grrr':'Putt Pirates','[AW]':'AlphaWired'}\n",
    "teams['team'] = teams.team.map(teams_dict)\n",
    "teams = teams.loc[teams.active_reserve=='Active'].set_index('player')\n",
    "teams.head()"
   ]
  },
  {
   "cell_type": "code",
   "execution_count": null,
   "id": "be6832cd",
   "metadata": {},
   "outputs": [],
   "source": [
    "## DATAFRAME WITH ALL INFO FOR BOTH PHR TABLE AND LIVE LEADERBOARD\n",
    "\n",
    "live_merged = pd.merge(teams, live, how='left', left_index=True, right_index=True)[['team','position','total','round','thru']].fillna(0).sort_values('total')\n",
    "live_merged = live_merged[live_merged.index != 0].reset_index()\n",
    "live_merged[['round', 'thru']] = live_merged[['round', 'thru']].astype(int)\n",
    "live_merged['matchup_num'] = live_merged.team.map(matchups)\n",
    "\n",
    "live_merged['holes_remaining'] = (72 - (live_merged['thru']).fillna(0)).astype(int)\n",
    "live_merged['holes_remaining'] = np.where(live_merged['position']=='CUT',0,live_merged['holes_remaining']).astype('int')\n",
    "live_merged['holes_remaining'] = np.where(live_merged['position']=='WD',0,live_merged['holes_remaining']).astype('int')\n",
    "\n",
    "live_merged.head()"
   ]
  },
  {
   "cell_type": "code",
   "execution_count": null,
   "id": "7e2e351f",
   "metadata": {
    "scrolled": false
   },
   "outputs": [],
   "source": [
    "# TEAM LEADERBOARD\n",
    "\n",
    "\n",
    "team_leaderboard = live_merged[['team','total','holes_remaining','matchup_num']]\n",
    "\n",
    "team_leaderboard = (\n",
    "    team_leaderboard#.sort_values('total',ascending=True)\n",
    "    .groupby('team')\n",
    "    [['total','holes_remaining','matchup_num']]\n",
    "    .agg(\n",
    "        {\n",
    "            'total':'sum',\n",
    "            'holes_remaining':'sum',\n",
    "            'matchup_num':'mean'\n",
    "        }\n",
    "    ).convert_dtypes()\n",
    ")\n",
    "\n",
    "team_leaderboard = team_leaderboard.sort_values('total').reset_index()\n",
    "team_leaderboard['team'] = team_leaderboard['team'].astype(str)\n",
    "\n",
    "team_leaderboard['inside_cut'] = team_leaderboard['team'].map(get_inside_cut(live_merged))\n",
    "\n",
    "team_leaderboard['total'] = np.where(team_leaderboard['total'] == 0, \"E\", team_leaderboard['total']).astype(str)\n",
    "\n",
    "team_leaderboard.columns = ['Team','Total','PHR','Matchup','Inside Cut']\n",
    "\n",
    "team_leaderboard.style.apply(highlight_rows,axis=1)"
   ]
  },
  {
   "cell_type": "code",
   "execution_count": null,
   "id": "7eff3668",
   "metadata": {},
   "outputs": [],
   "source": [
    "#1 LIVE LEADERBOARD\n",
    "player_leaderboard = live_merged[['player', 'position', 'total', 'round', 'thru','team','matchup_num']].fillna(0)\n",
    "\n",
    "player_leaderboard['total'] = np.where(player_leaderboard['total'] == 0, \"E\", player_leaderboard['total']).astype(str)\n",
    "player_leaderboard['round'] = np.where(player_leaderboard['round'] == 0, \"E\", player_leaderboard['round']).astype(str)\n",
    "player_leaderboard['position'] = np.where(player_leaderboard['position'] == \"WAITING\", \"-\", player_leaderboard['position'])\n",
    "player_leaderboard['thru'] = np.where(player_leaderboard['thru'] == 0, \"-\", player_leaderboard['thru']).astype(str)\n",
    "\n",
    "player_leaderboard.columns = ['Player','Pos','Total','Rd','Thru','Team','matchup_num']\n",
    "\n",
    "# matchup_num = [1,2,3,4]\n",
    "# player_leaderboard[player_leaderboard.matchup_num.isin(matchup_num)]\n",
    "\n",
    "player_leaderboard.style.apply(highlight_rows,axis=1)"
   ]
  },
  {
   "cell_type": "code",
   "execution_count": null,
   "id": "ae12f7f6",
   "metadata": {},
   "outputs": [],
   "source": [
    "live_phr = live_merged.groupby('team')[['holes_remaining']].sum().reset_index().rename(columns={'team':'Team','holes_remaining':'PHR','total':'To Par'})\n",
    "live_phr.style.apply(highlight_rows, axis=1)"
   ]
  },
  {
   "cell_type": "code",
   "execution_count": null,
   "id": "6f495fab",
   "metadata": {},
   "outputs": [],
   "source": [
    "# Team Score bar\n",
    "\n",
    "thru_cut_df = live_leaderboard.groupby('team')['total'].sum().sort_values()#.rename(columns={'team':'thruCut'})\n",
    "\n",
    "thru_cut_bar = px.bar(thru_cut_df,\n",
    "                     template='presentation',\n",
    "                     labels={'value':'','team':''},\n",
    "                     text_auto=True,\n",
    "#                      height=250,\n",
    "                     title='Team Score to Par')\n",
    "\n",
    "thru_cut_bar.update_layout(showlegend=False,title_x=.25)\n",
    "thru_cut_bar.update_yaxes(showticklabels=False,showgrid=False)\n",
    "thru_cut_bar.update_traces(marker_color='rgb(200,200,200)',marker_line_width=1.5, opacity=0.6)\n",
    "\n",
    "thru_cut_bar.show()"
   ]
  },
  {
   "cell_type": "code",
   "execution_count": null,
   "id": "baf5cc01",
   "metadata": {},
   "outputs": [],
   "source": [
    "def remove_T_from_positions(dataframe):\n",
    "    \"\"\"\n",
    "    Remove 'T' from positions in a given column of a DataFrame.\n",
    "\n",
    "    Parameters:\n",
    "        dataframe (pandas.DataFrame): DataFrame containing the data.\n",
    "        column_name (str): Name of the column containing positions.\n",
    "\n",
    "    Returns:\n",
    "        pandas.DataFrame: DataFrame with 'T' removed from positions in the specified column.\n",
    "    \"\"\"\n",
    "    dataframe['position'] = dataframe['position'].str.replace('T', '')\n",
    "    return dataframe\n",
    "\n",
    "def get_inside_cut(dataframe):\n",
    "    \"\"\"\n",
    "    Filter DataFrame based on position threshold and group by team.\n",
    "\n",
    "    Parameters:\n",
    "        dataframe (pandas.DataFrame): DataFrame containing the data.\n",
    "        position_threshold (str): Threshold position for filtering.\n",
    "\n",
    "    Returns:\n",
    "        pandas.DataFrame: DataFrame with filtered data grouped by team.\n",
    "    \"\"\"\n",
    "    filtered_data = dataframe[(dataframe['player'] != 0) & (dataframe['position'] != \"WAITING\")]\n",
    "    filtered_data = remove_T_from_positions(filtered_data)\n",
    "    inside_cut_df = filtered_data[filtered_data['position'] < \"66\"].groupby('team', as_index=False)['player'].count()\n",
    "    inside_cut_df = inside_cut_df.sort_values(by='player', ascending=False).reset_index(drop=True)\n",
    "    return inside_cut_df\n",
    "\n",
    "# Example usage:\n",
    "# inside_cut_df = get_inside_cut(live_merged)\n",
    "# inside_cut_df\n"
   ]
  },
  {
   "cell_type": "code",
   "execution_count": null,
   "id": "55b6eaec",
   "metadata": {},
   "outputs": [],
   "source": [
    "live_merged = live_merged[(live_merged['player'] != 0) & (live_merged['position'] != \"WAITING\")]\n",
    "live_merged = remove_T_from_positions(live_merged)\n",
    "live_merged['position'] = live_merged['position'].astype('int')\n",
    "# inside_cut_df = live_merged[live_merged['position'] < 66]#.groupby('team', as_index=False)['player'].count()\n",
    "# # inside_cut_df = inside_cut_df.sort_values(by='player', ascending=False).reset_index(drop=True)\n",
    "# inside_cut_df#.info()"
   ]
  },
  {
   "cell_type": "code",
   "execution_count": null,
   "id": "d576d1f1",
   "metadata": {},
   "outputs": [],
   "source": [
    "inside_cut_df = pd.DataFrame(live_merged[live_merged['position'] < 66].team.value_counts()).reset_index()\n",
    "inside_cut_df.columns = ['team','inside_cut']\n",
    "inside_cut_df"
   ]
  },
  {
   "cell_type": "code",
   "execution_count": null,
   "id": "a79d1c71",
   "metadata": {},
   "outputs": [],
   "source": [
    "filtered_live_leaderboard = live_leaderboard[(live_leaderboard.player != 0) & (live_leaderboard.position != \"WAITING\")]\n",
    "filtered_live_leaderboard['position'] = filtered_live_leaderboard['position'].str.replace('T', '')\n",
    "inside_cut_df = filtered_live_leaderboard[filtered_live_leaderboard.position < \"66\"].groupby('team',as_index=False)['player'].count()\n",
    "inside_cut_df = inside_cut_df.sort_values(by = 'player',ascending=False).reset_index(drop=True)\n",
    "inside_cut_df"
   ]
  },
  {
   "cell_type": "code",
   "execution_count": null,
   "id": "0245d002",
   "metadata": {},
   "outputs": [],
   "source": [
    "team_color={\n",
    "                \"Philly919\": 'rgb(127,60,141)',\n",
    "                \"unit_cirle\": 'rgb(17,165,121)',\n",
    "                \"AlphaWired\": 'rgb(57,105,172)',\n",
    "                \"Sneads Foot\": 'rgb(242,183,1)',\n",
    "                \"New Team 4\": 'rgb(231,63,116)',\n",
    "                \"Team Gamble\": 'rgb(230,131,16)',\n",
    "                \"txmoonshine\": 'rgb(0,134,139)',\n",
    "                \"Putt Pirates\": 'rgb(165,170,153)'}"
   ]
  },
  {
   "cell_type": "code",
   "execution_count": null,
   "id": "e532f8fb",
   "metadata": {},
   "outputs": [],
   "source": [
    "inside_cut_bar = px.bar(\n",
    "    inside_cut_df,\n",
    "    x='team',\n",
    "    y='player',\n",
    "    text_auto=True,\n",
    "    template='plotly_dark',\n",
    "    color='team',\n",
    "    color_discrete_map=team_color,\n",
    "    labels = {'player':'','team':''},\n",
    "    title = 'Players Currently Inside Cutline',\n",
    "    height = 250,\n",
    "    log_y=True\n",
    ").update_xaxes(showticklabels=False,showgrid=False\n",
    ").update_yaxes(showticklabels=False,showgrid=False\n",
    ").update_layout(showlegend=False, title_x = .5)\n",
    "\n",
    "inside_cut_bar"
   ]
  },
  {
   "cell_type": "code",
   "execution_count": null,
   "id": "63212ad7",
   "metadata": {},
   "outputs": [],
   "source": [
    "# def current_cut_in_out():\n",
    "# live_leaderboard['current_place'] = live_leaderboard.position.str.split(\"T\",expand=True)[1]\n",
    "# live_leaderboard[(live_leaderboard.position != \"WAITING\") & (live_leaderboard.player != 0)]#.position.str.split(\"T\",expand=True)\n",
    "filtered_live_leaderboard = live_leaderboard[(live_leaderboard.position != \"WAITING\") & (live_leaderboard.player != 0)]\n",
    "\n",
    "position_column = list(filtered_live_leaderboard.position)\n",
    "\n",
    "filtered_live_leaderboard.apply(position = [pos.replace('T', '') for pos in position_column])"
   ]
  },
  {
   "cell_type": "code",
   "execution_count": null,
   "id": "0a446468",
   "metadata": {},
   "outputs": [],
   "source": [
    "# Thru Cut Bar\n",
    "\n",
    "thru_cut_df = live_leaderboard[live_leaderboard.position!='CUT']['team'].value_counts()#.rename(columns={'team':'thruCut'})\n",
    "\n",
    "thru_cut_bar = px.bar(thru_cut_df,\n",
    "                 template='presentation',\n",
    "                 labels={'value':'','index':''},\n",
    "                 text_auto=True,\n",
    "                 height=250,\n",
    "                 log_y=True,\n",
    "                 title='Players Thru the Cut')\n",
    "\n",
    "thru_cut_bar.update_layout(showlegend=False,title_x=.25)\n",
    "thru_cut_bar.update_yaxes(showticklabels=False,showgrid=False)\n",
    "thru_cut_bar.update_traces(marker_color='rgb(200,200,200)',marker_line_width=1.5, opacity=0.6)"
   ]
  },
  {
   "cell_type": "code",
   "execution_count": null,
   "id": "514beff2",
   "metadata": {},
   "outputs": [],
   "source": [
    "print(f\"unit_circle has {live_merged[live_merged.team=='unit_circle']['holes_remaining'].sum()} Holes Remaining\")\n",
    "live_merged[live_merged.team=='unit_circle'].drop(columns=['holes_remaining','team'])"
   ]
  },
  {
   "cell_type": "code",
   "execution_count": null,
   "id": "ebd589fb",
   "metadata": {},
   "outputs": [],
   "source": [
    "# live look at all 48 active players with player as index\n",
    "\n",
    "print(f\"Philly919 has {live_merged[live_merged.team=='Philly919']['holes_remaining'].sum()} Holes Remaining\")\n",
    "live_merged[live_merged.team=='Philly919'].drop(columns=['holes_remaining','team'])"
   ]
  },
  {
   "cell_type": "code",
   "execution_count": null,
   "id": "7ebbb0ab",
   "metadata": {},
   "outputs": [],
   "source": [
    "# live look at all 48 active players with player as index\n",
    "\n",
    "print(f\"Team Gamble has {live_merged[live_merged.team=='Team Gamble']['holes_remaining'].sum()} Holes Remaining\")\n",
    "live_merged[live_merged.team=='Team Gamble'].drop(columns=['holes_remaining','team'])"
   ]
  },
  {
   "cell_type": "code",
   "execution_count": null,
   "id": "49088826",
   "metadata": {},
   "outputs": [],
   "source": [
    "# live look at all 48 active players with player as index\n",
    "\n",
    "print(f\"New Team 4 has {live_merged[live_merged.team=='New Team 4']['holes_remaining'].sum()} Holes Remaining\")\n",
    "live_merged[live_merged.team=='New Team 4'].drop(columns=['holes_remaining','team'])"
   ]
  },
  {
   "cell_type": "code",
   "execution_count": null,
   "id": "3e5f3500",
   "metadata": {},
   "outputs": [],
   "source": [
    "unit_circle = teams.loc[(teams.team=='unit_circle') & (teams.active_reserve=='Active')].index\n",
    "\n",
    "live['thru_hp'] = live['thru'] + 18\n",
    "\n",
    "# live[live.player.isin([unit_circle])]#[['player','total','round','thru','thru_hp']].reset_index(drop=True)"
   ]
  },
  {
   "cell_type": "code",
   "execution_count": null,
   "id": "8de6eea5",
   "metadata": {},
   "outputs": [],
   "source": [
    "def get_active_rosters(teams):\n",
    "    active_rosters = []\n",
    "    \n",
    "    for team in teams.team.unique():\n",
    "        one_roster = teams.loc[(teams.team==team) & (teams.active_reserve=='Active')].index\n",
    "        active_rosters.append(one_roster)\n",
    "        \n",
    "    cols = teams.team.unique()\n",
    "    active_rosters = pd.DataFrame(active_rosters, index=cols).T\n",
    "    return active_rosters"
   ]
  },
  {
   "cell_type": "code",
   "execution_count": null,
   "id": "6af28693",
   "metadata": {},
   "outputs": [],
   "source": [
    "get_active_rosters(teams)"
   ]
  },
  {
   "cell_type": "code",
   "execution_count": null,
   "id": "e9a7c9e4",
   "metadata": {},
   "outputs": [],
   "source": [
    "active_rosters = []\n",
    "\n",
    "for team in teams.team.unique():\n",
    "    one_roster = teams.loc[(teams.team==team) & (teams.active_reserve=='Active')].index\n",
    "    active_rosters.append(one_roster)\n",
    "\n",
    "cols = teams.team.unique()\n",
    "active_rosters = pd.DataFrame(active_rosters, index=cols).T\n",
    "active_rosters"
   ]
  },
  {
   "cell_type": "code",
   "execution_count": null,
   "id": "cee2f278",
   "metadata": {},
   "outputs": [],
   "source": []
  }
 ],
 "metadata": {
  "kernelspec": {
   "display_name": "Python 3 (ipykernel)",
   "language": "python",
   "name": "python3"
  },
  "language_info": {
   "codemirror_mode": {
    "name": "ipython",
    "version": 3
   },
   "file_extension": ".py",
   "mimetype": "text/x-python",
   "name": "python",
   "nbconvert_exporter": "python",
   "pygments_lexer": "ipython3",
   "version": "3.11.5"
  }
 },
 "nbformat": 4,
 "nbformat_minor": 5
}

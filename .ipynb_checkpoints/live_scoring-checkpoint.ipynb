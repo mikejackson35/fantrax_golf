{
 "cells": [
  {
   "cell_type": "code",
   "execution_count": 1,
   "id": "1549c272",
   "metadata": {},
   "outputs": [],
   "source": [
    "import pandas as pd\n",
    "import numpy as np\n",
    "import plotly.express as px\n",
    "from utils import highlight_rows, remove_T_from_positions, get_inside_cut, teams_dict, team_color,fix_names, plus_prefix, get_inside_cut_weekend, highlight_rows_team_short\n",
    "\n",
    "pd.set_option('display.max_columns', None)\n"
   ]
  },
  {
   "cell_type": "code",
   "execution_count": 2,
   "id": "17726471",
   "metadata": {},
   "outputs": [],
   "source": [
    "matchups = {                                    # enter weekly matchups here\n",
    "    'unit_circle':1,\n",
    "    'Putt Pirates':2,\n",
    "    'AlphaWired':3,\n",
    "    'txmoonshine':2,\n",
    "    'Sneads Foot':1,\n",
    "    'New Team 4':4,\n",
    "    'Team Gamble':4,\n",
    "    'Philly919':3\n",
    "}"
   ]
  },
  {
   "cell_type": "code",
   "execution_count": 3,
   "id": "3c12c4eb",
   "metadata": {
    "scrolled": false
   },
   "outputs": [],
   "source": [
    "## live scoring feed\n",
    "\n",
    "file = \"https://feeds.datagolf.com/preds/live-tournament-stats?stats=sg_putt,sg_arg,sg_app,sg_ott,sg_t2g,sg_bs,sg_total,distance,accuracy,gir,prox_fw,prox_rgh,scrambling&round=event_avg&display=value&file_format=csv&key=e297e933c3ad47d71ec1626c299e\"\n",
    "\n",
    "live = round(pd.read_csv(file),2).rename(columns={'player_name':'player'})\n",
    "live = live.set_index(fix_names(live))\n",
    "# live[-20:]"
   ]
  },
  {
   "cell_type": "code",
   "execution_count": 4,
   "id": "0812182d",
   "metadata": {},
   "outputs": [],
   "source": [
    "## fantrax rosters\n",
    "\n",
    "fx = r\"C:\\Users\\mikej\\Desktop\\fantrax_golf\\fantrax.csv\"\n",
    "\n",
    "teams = pd.read_csv(fx ,usecols=['Player','Status','Roster Status'])\n",
    "teams.columns = ['player','team','active_reserve']\n",
    "teams['team_short'] = teams['team']\n",
    "teams['team'] = teams.team.map(teams_dict)\n",
    "teams = teams.loc[teams.active_reserve=='Active'].set_index('player')\n",
    "# teams"
   ]
  },
  {
   "cell_type": "code",
   "execution_count": 5,
   "id": "be6832cd",
   "metadata": {},
   "outputs": [
    {
     "data": {
      "text/html": [
       "<div>\n",
       "<style scoped>\n",
       "    .dataframe tbody tr th:only-of-type {\n",
       "        vertical-align: middle;\n",
       "    }\n",
       "\n",
       "    .dataframe tbody tr th {\n",
       "        vertical-align: top;\n",
       "    }\n",
       "\n",
       "    .dataframe thead th {\n",
       "        text-align: right;\n",
       "    }\n",
       "</style>\n",
       "<table border=\"1\" class=\"dataframe\">\n",
       "  <thead>\n",
       "    <tr style=\"text-align: right;\">\n",
       "      <th></th>\n",
       "      <th>player</th>\n",
       "      <th>team</th>\n",
       "      <th>team_short</th>\n",
       "      <th>position</th>\n",
       "      <th>total</th>\n",
       "      <th>round</th>\n",
       "      <th>thru</th>\n",
       "      <th>matchup_num</th>\n",
       "      <th>holes_remaining</th>\n",
       "    </tr>\n",
       "  </thead>\n",
       "  <tbody>\n",
       "    <tr>\n",
       "      <th>0</th>\n",
       "      <td>Akshay Bhatia</td>\n",
       "      <td>New Team 4</td>\n",
       "      <td>NT 4</td>\n",
       "      <td>1</td>\n",
       "      <td>-12</td>\n",
       "      <td>-1</td>\n",
       "      <td>10</td>\n",
       "      <td>4</td>\n",
       "      <td>26</td>\n",
       "    </tr>\n",
       "    <tr>\n",
       "      <th>1</th>\n",
       "      <td>Brendon Todd</td>\n",
       "      <td>txmoonshine</td>\n",
       "      <td>txms</td>\n",
       "      <td>T2</td>\n",
       "      <td>-8</td>\n",
       "      <td>-2</td>\n",
       "      <td>10</td>\n",
       "      <td>2</td>\n",
       "      <td>26</td>\n",
       "    </tr>\n",
       "    <tr>\n",
       "      <th>2</th>\n",
       "      <td>Denny McCarthy</td>\n",
       "      <td>unit_circle</td>\n",
       "      <td>u_c</td>\n",
       "      <td>T2</td>\n",
       "      <td>-8</td>\n",
       "      <td>-2</td>\n",
       "      <td>11</td>\n",
       "      <td>1</td>\n",
       "      <td>25</td>\n",
       "    </tr>\n",
       "    <tr>\n",
       "      <th>3</th>\n",
       "      <td>Ludvig Aberg</td>\n",
       "      <td>New Team 4</td>\n",
       "      <td>NT 4</td>\n",
       "      <td>T4</td>\n",
       "      <td>-6</td>\n",
       "      <td>-5</td>\n",
       "      <td>18</td>\n",
       "      <td>4</td>\n",
       "      <td>18</td>\n",
       "    </tr>\n",
       "    <tr>\n",
       "      <th>4</th>\n",
       "      <td>Hideki Matsuyama</td>\n",
       "      <td>unit_circle</td>\n",
       "      <td>u_c</td>\n",
       "      <td>T4</td>\n",
       "      <td>-6</td>\n",
       "      <td>-5</td>\n",
       "      <td>17</td>\n",
       "      <td>1</td>\n",
       "      <td>19</td>\n",
       "    </tr>\n",
       "  </tbody>\n",
       "</table>\n",
       "</div>"
      ],
      "text/plain": [
       "             player         team team_short position  total  round  thru  \\\n",
       "0     Akshay Bhatia   New Team 4       NT 4        1    -12     -1    10   \n",
       "1      Brendon Todd  txmoonshine       txms       T2     -8     -2    10   \n",
       "2    Denny McCarthy  unit_circle        u_c       T2     -8     -2    11   \n",
       "3      Ludvig Aberg   New Team 4       NT 4       T4     -6     -5    18   \n",
       "4  Hideki Matsuyama  unit_circle        u_c       T4     -6     -5    17   \n",
       "\n",
       "   matchup_num  holes_remaining  \n",
       "0            4               26  \n",
       "1            2               26  \n",
       "2            1               25  \n",
       "3            4               18  \n",
       "4            1               19  "
      ]
     },
     "execution_count": 5,
     "metadata": {},
     "output_type": "execute_result"
    }
   ],
   "source": [
    "## DATAFRAME WITH ALL INFO FOR BOTH PHR TABLE AND LIVE LEADERBOARD\n",
    "\n",
    "live_merged = pd.merge(teams, live, how='left', left_index=True, right_index=True)[['team','team_short','position','total','round','thru']].fillna(0).sort_values('total')\n",
    "live_merged = live_merged[live_merged.index != 0].reset_index()\n",
    "live_merged[['total','round', 'thru']] = live_merged[['total','round', 'thru']].astype(int)\n",
    "live_merged['matchup_num'] = live_merged.team.map(matchups)\n",
    "\n",
    "live_merged['holes_remaining'] = (36 - (live_merged['thru']).fillna(0)).astype(int)\n",
    "live_merged['holes_remaining'] = np.where(live_merged['position']=='CUT',0,live_merged['holes_remaining']).astype('int')\n",
    "live_merged['holes_remaining'] = np.where(live_merged['position']=='WD',0,live_merged['holes_remaining']).astype('int')\n",
    "\n",
    "live_merged.head()"
   ]
  },
  {
   "cell_type": "code",
   "execution_count": null,
   "id": "0593b0fa",
   "metadata": {},
   "outputs": [],
   "source": [
    "def get_inside_cut_weekend(live_merged):\n",
    "\n",
    "    df_ = live_merged[(live_merged.position != 'WAITING') & (live_merged.position != 'CUT')]\n",
    "    s_ = df_.groupby('team_short')['player'].count()\n",
    "    inside_cut_weekend_dict = dict(s_)\n",
    "\n",
    "    return dict(inside_cut_weekend_dict)"
   ]
  },
  {
   "cell_type": "code",
   "execution_count": null,
   "id": "14ac41fd",
   "metadata": {},
   "outputs": [],
   "source": [
    "# Make team leaderboard\n",
    "team_leaderboard = (live_merged[['team', 'team_short', 'total', 'holes_remaining', 'matchup_num']]\n",
    "                    .groupby(['team', 'team_short'])\n",
    "                    .agg({'total': 'sum', 'holes_remaining': 'sum'})\n",
    "                    .convert_dtypes()\n",
    "                    .sort_values('total')\n",
    "                    .reset_index()\n",
    "                    .astype({'team': str, 'team_short': str})\n",
    "                   )\n",
    "\n",
    "team_leaderboard['inside_cut'] = team_leaderboard['team_short'].map(get_inside_cut_weekend(live_merged))\n",
    "team_leaderboard['total'] = team_leaderboard['total'].apply(plus_prefix)\n",
    "team_leaderboard['total'] = team_leaderboard['total'].replace('0', 'E').astype(str)\n",
    "team_leaderboard_bar_df = team_leaderboard.copy()\n",
    "\n",
    "team_leaderboard.drop(columns='team',inplace=True)\n",
    "team_leaderboard.rename(columns={'team_short':'team'},inplace=True)\n",
    "team_leaderboard.columns = ['Team','Total','PHR','Inside Cut']\n",
    "team_leaderboard.style.apply(highlight_rows_team_short,axis=1)#, column_config={'Team':None})"
   ]
  },
  {
   "cell_type": "code",
   "execution_count": null,
   "id": "7e2e351f",
   "metadata": {
    "scrolled": false
   },
   "outputs": [],
   "source": [
    "# TEAM LEADERBOARD\n",
    "\n",
    "\n",
    "team_leaderboard = live_merged[['team','team_short','total','holes_remaining','matchup_num']]\n",
    "\n",
    "team_leaderboard = (\n",
    "    team_leaderboard#.sort_values('total',ascending=True)\n",
    "    .groupby(['team','team_short'])\n",
    "    [['total','holes_remaining','matchup_num']]\n",
    "    .agg(\n",
    "        {\n",
    "            'total':'sum',\n",
    "            'holes_remaining':'sum',\n",
    "            'matchup_num':'mean'\n",
    "        }\n",
    "    ).convert_dtypes()\n",
    ")\n",
    "\n",
    "team_leaderboard = team_leaderboard.sort_values('total').reset_index()\n",
    "team_leaderboard['team'] = team_leaderboard['team'].astype(str)\n",
    "team_leaderboard['team_short'] = team_leaderboard['team_short'].astype(str)\n",
    "\n",
    "team_leaderboard['inside_cut'] = team_leaderboard['team'].map(get_inside_cut(live_merged))\n",
    "\n",
    "team_leaderboard['total'] = np.where(team_leaderboard['total'] == 0, \"E\", team_leaderboard['total']).astype(str)\n",
    "\n",
    "# team_leaderboard.drop(columns='team',inplace=True)\n",
    "\n",
    "team_leaderboard.columns = ['Team','Team Short','Total','PHR','Matchup','Inside Cut']\n",
    "\n",
    "team_leaderboard.style.apply(highlight_rows,axis=1)#, column_config={'Team':None})"
   ]
  },
  {
   "cell_type": "code",
   "execution_count": null,
   "id": "7eff3668",
   "metadata": {},
   "outputs": [],
   "source": [
    "#1 LIVE LEADERBOARD\n",
    "player_leaderboard = live_merged[['player', 'position', 'total', 'round', 'thru','team','matchup_num']].fillna(0)\n",
    "\n",
    "player_leaderboard['total'] = np.where(player_leaderboard['total'] == 0, \"E\", player_leaderboard['total']).astype(str)\n",
    "player_leaderboard['round'] = np.where(player_leaderboard['round'] == 0, \"E\", player_leaderboard['round']).astype(str)\n",
    "player_leaderboard['position'] = np.where(player_leaderboard['position'] == \"WAITING\", \"-\", player_leaderboard['position'])\n",
    "player_leaderboard['thru'] = np.where(player_leaderboard['thru'] == 0, \"-\", player_leaderboard['thru']).astype(str)\n",
    "\n",
    "player_leaderboard.columns = ['Player','Pos','Total','Rd','Thru','Team','matchup_num']\n",
    "\n",
    "# matchup_num = [1,2,3,4]\n",
    "# player_leaderboard[player_leaderboard.matchup_num.isin(matchup_num)]\n",
    "\n",
    "player_leaderboard.style.apply(highlight_rows,axis=1)"
   ]
  },
  {
   "cell_type": "code",
   "execution_count": null,
   "id": "8b707b3d",
   "metadata": {},
   "outputs": [],
   "source": [
    "sorted(np.array(live_merged['matchup_num'].unique()))"
   ]
  },
  {
   "cell_type": "code",
   "execution_count": null,
   "id": "afa8aeda",
   "metadata": {},
   "outputs": [],
   "source": [
    "live_merged_strokes_gained = (pd.merge(teams,live,how='left',left_index=True,right_index=True).drop(columns='player').reset_index())\n",
    "live_merged_strokes_gained.groupby('team',as_index=False)[['sg_putt','sg_arg','sg_app','sg_t2g']].sum().reset_index(drop=True)"
   ]
  },
  {
   "cell_type": "code",
   "execution_count": null,
   "id": "5d46ab94",
   "metadata": {},
   "outputs": [],
   "source": [
    "live_merged_strokes_gained = (pd.merge(teams,live,how='left',left_index=True,right_index=True).drop(columns='player').reset_index())\n",
    "live_merged_strokes_gained = live_merged_strokes_gained.groupby('team',as_index=False)[['sg_putt','sg_arg','sg_app','sg_t2g']].sum().reset_index(drop=True)\n",
    "\n",
    "live_merged_strokes_gained.columns = ['Team','SG Putt','SG Arg','SG App','SG T2G']\n",
    "live_merged_strokes_gained = live_merged_strokes_gained.style.background_gradient(cmap='Greens').format(precision=2)\n",
    "live_merged_strokes_gained"
   ]
  },
  {
   "cell_type": "code",
   "execution_count": null,
   "id": "ae12f7f6",
   "metadata": {},
   "outputs": [],
   "source": [
    "live_phr = live_merged.groupby('team')[['holes_remaining']].sum().reset_index().rename(columns={'team':'Team','holes_remaining':'PHR','total':'To Par'})\n",
    "live_phr.style.apply(highlight_rows, axis=1)"
   ]
  },
  {
   "cell_type": "code",
   "execution_count": null,
   "id": "6f495fab",
   "metadata": {},
   "outputs": [],
   "source": [
    "# Team Score bar\n",
    "\n",
    "thru_cut_df = live_leaderboard.groupby('team')['total'].sum().sort_values()#.rename(columns={'team':'thruCut'})\n",
    "\n",
    "thru_cut_bar = px.bar(thru_cut_df,\n",
    "                     template='presentation',\n",
    "                     labels={'value':'','team':''},\n",
    "                     text_auto=True,\n",
    "#                      height=250,\n",
    "                     title='Team Score to Par')\n",
    "\n",
    "thru_cut_bar.update_layout(showlegend=False,title_x=.25)\n",
    "thru_cut_bar.update_yaxes(showticklabels=False,showgrid=False)\n",
    "thru_cut_bar.update_traces(marker_color='rgb(200,200,200)',marker_line_width=1.5, opacity=0.6)\n",
    "\n",
    "thru_cut_bar.show()"
   ]
  },
  {
   "cell_type": "code",
   "execution_count": null,
   "id": "baf5cc01",
   "metadata": {},
   "outputs": [],
   "source": [
    "def remove_T_from_positions(dataframe):\n",
    "    \"\"\"\n",
    "    Remove 'T' from positions in a given column of a DataFrame.\n",
    "\n",
    "    Parameters:\n",
    "        dataframe (pandas.DataFrame): DataFrame containing the data.\n",
    "        column_name (str): Name of the column containing positions.\n",
    "\n",
    "    Returns:\n",
    "        pandas.DataFrame: DataFrame with 'T' removed from positions in the specified column.\n",
    "    \"\"\"\n",
    "    dataframe['position'] = dataframe['position'].str.replace('T', '')\n",
    "    return dataframe\n",
    "\n",
    "def get_inside_cut(dataframe):\n",
    "    \"\"\"\n",
    "    Filter DataFrame based on position threshold and group by team.\n",
    "\n",
    "    Parameters:\n",
    "        dataframe (pandas.DataFrame): DataFrame containing the data.\n",
    "        position_threshold (str): Threshold position for filtering.\n",
    "\n",
    "    Returns:\n",
    "        pandas.DataFrame: DataFrame with filtered data grouped by team.\n",
    "    \"\"\"\n",
    "    filtered_data = dataframe[(dataframe['player'] != 0) & (dataframe['position'] != \"WAITING\")]\n",
    "    filtered_data = remove_T_from_positions(filtered_data)\n",
    "    inside_cut_df = filtered_data[filtered_data['position'] < \"66\"].groupby('team', as_index=False)['player'].count()\n",
    "    inside_cut_df = inside_cut_df.sort_values(by='player', ascending=False).reset_index(drop=True)\n",
    "    return inside_cut_df\n",
    "\n",
    "# Example usage:\n",
    "# inside_cut_df = get_inside_cut(live_merged)\n",
    "# inside_cut_df\n"
   ]
  },
  {
   "cell_type": "code",
   "execution_count": null,
   "id": "55b6eaec",
   "metadata": {},
   "outputs": [],
   "source": [
    "live_merged = live_merged[(live_merged['player'] != 0) & (live_merged['position'] != \"WAITING\")]\n",
    "live_merged = remove_T_from_positions(live_merged)\n",
    "live_merged['position'] = live_merged['position'].astype('int')\n",
    "# inside_cut_df = live_merged[live_merged['position'] < 66]#.groupby('team', as_index=False)['player'].count()\n",
    "# # inside_cut_df = inside_cut_df.sort_values(by='player', ascending=False).reset_index(drop=True)\n",
    "# inside_cut_df#.info()"
   ]
  },
  {
   "cell_type": "code",
   "execution_count": null,
   "id": "d576d1f1",
   "metadata": {},
   "outputs": [],
   "source": [
    "inside_cut_df = pd.DataFrame(live_merged[live_merged['position'] < 66].team.value_counts()).reset_index()\n",
    "inside_cut_df.columns = ['team','inside_cut']\n",
    "inside_cut_df"
   ]
  },
  {
   "cell_type": "code",
   "execution_count": null,
   "id": "a79d1c71",
   "metadata": {},
   "outputs": [],
   "source": [
    "filtered_live_leaderboard = live_leaderboard[(live_leaderboard.player != 0) & (live_leaderboard.position != \"WAITING\")]\n",
    "filtered_live_leaderboard['position'] = filtered_live_leaderboard['position'].str.replace('T', '')\n",
    "inside_cut_df = filtered_live_leaderboard[filtered_live_leaderboard.position < \"66\"].groupby('team',as_index=False)['player'].count()\n",
    "inside_cut_df = inside_cut_df.sort_values(by = 'player',ascending=False).reset_index(drop=True)\n",
    "inside_cut_df"
   ]
  },
  {
   "cell_type": "code",
   "execution_count": null,
   "id": "0245d002",
   "metadata": {},
   "outputs": [],
   "source": [
    "team_color={\n",
    "                \"Philly919\": 'rgb(127,60,141)',\n",
    "                \"unit_cirle\": 'rgb(17,165,121)',\n",
    "                \"AlphaWired\": 'rgb(57,105,172)',\n",
    "                \"Sneads Foot\": 'rgb(242,183,1)',\n",
    "                \"New Team 4\": 'rgb(231,63,116)',\n",
    "                \"Team Gamble\": 'rgb(230,131,16)',\n",
    "                \"txmoonshine\": 'rgb(0,134,139)',\n",
    "                \"Putt Pirates\": 'rgb(165,170,153)'}"
   ]
  },
  {
   "cell_type": "code",
   "execution_count": null,
   "id": "e532f8fb",
   "metadata": {},
   "outputs": [],
   "source": [
    "inside_cut_bar = px.bar(\n",
    "    inside_cut_df,\n",
    "    x='team',\n",
    "    y='player',\n",
    "    text_auto=True,\n",
    "    template='plotly_dark',\n",
    "    color='team',\n",
    "    color_discrete_map=team_color,\n",
    "    labels = {'player':'','team':''},\n",
    "    title = 'Players Currently Inside Cutline',\n",
    "    height = 250,\n",
    "    log_y=True\n",
    ").update_xaxes(showticklabels=False,showgrid=False\n",
    ").update_yaxes(showticklabels=False,showgrid=False\n",
    ").update_layout(showlegend=False, title_x = .5)\n",
    "\n",
    "inside_cut_bar"
   ]
  },
  {
   "cell_type": "code",
   "execution_count": null,
   "id": "63212ad7",
   "metadata": {},
   "outputs": [],
   "source": [
    "# def current_cut_in_out():\n",
    "# live_leaderboard['current_place'] = live_leaderboard.position.str.split(\"T\",expand=True)[1]\n",
    "# live_leaderboard[(live_leaderboard.position != \"WAITING\") & (live_leaderboard.player != 0)]#.position.str.split(\"T\",expand=True)\n",
    "filtered_live_leaderboard = live_leaderboard[(live_leaderboard.position != \"WAITING\") & (live_leaderboard.player != 0)]\n",
    "\n",
    "position_column = list(filtered_live_leaderboard.position)\n",
    "\n",
    "filtered_live_leaderboard.apply(position = [pos.replace('T', '') for pos in position_column])"
   ]
  },
  {
   "cell_type": "code",
   "execution_count": null,
   "id": "0a446468",
   "metadata": {},
   "outputs": [],
   "source": [
    "# Thru Cut Bar\n",
    "\n",
    "thru_cut_df = live_leaderboard[live_leaderboard.position!='CUT']['team'].value_counts()#.rename(columns={'team':'thruCut'})\n",
    "\n",
    "thru_cut_bar = px.bar(thru_cut_df,\n",
    "                 template='presentation',\n",
    "                 labels={'value':'','index':''},\n",
    "                 text_auto=True,\n",
    "                 height=250,\n",
    "                 log_y=True,\n",
    "                 title='Players Thru the Cut')\n",
    "\n",
    "thru_cut_bar.update_layout(showlegend=False,title_x=.25)\n",
    "thru_cut_bar.update_yaxes(showticklabels=False,showgrid=False)\n",
    "thru_cut_bar.update_traces(marker_color='rgb(200,200,200)',marker_line_width=1.5, opacity=0.6)"
   ]
  },
  {
   "cell_type": "code",
   "execution_count": null,
   "id": "514beff2",
   "metadata": {},
   "outputs": [],
   "source": [
    "print(f\"unit_circle has {live_merged[live_merged.team=='unit_circle']['holes_remaining'].sum()} Holes Remaining\")\n",
    "live_merged[live_merged.team=='unit_circle'].drop(columns=['holes_remaining','team'])"
   ]
  },
  {
   "cell_type": "code",
   "execution_count": null,
   "id": "ebd589fb",
   "metadata": {},
   "outputs": [],
   "source": [
    "# live look at all 48 active players with player as index\n",
    "\n",
    "print(f\"Philly919 has {live_merged[live_merged.team=='Philly919']['holes_remaining'].sum()} Holes Remaining\")\n",
    "live_merged[live_merged.team=='Philly919'].drop(columns=['holes_remaining','team'])"
   ]
  },
  {
   "cell_type": "code",
   "execution_count": null,
   "id": "7ebbb0ab",
   "metadata": {},
   "outputs": [],
   "source": [
    "# live look at all 48 active players with player as index\n",
    "\n",
    "print(f\"Team Gamble has {live_merged[live_merged.team=='Team Gamble']['holes_remaining'].sum()} Holes Remaining\")\n",
    "live_merged[live_merged.team=='Team Gamble'].drop(columns=['holes_remaining','team'])"
   ]
  },
  {
   "cell_type": "code",
   "execution_count": null,
   "id": "49088826",
   "metadata": {},
   "outputs": [],
   "source": [
    "# live look at all 48 active players with player as index\n",
    "\n",
    "print(f\"New Team 4 has {live_merged[live_merged.team=='New Team 4']['holes_remaining'].sum()} Holes Remaining\")\n",
    "live_merged[live_merged.team=='New Team 4'].drop(columns=['holes_remaining','team'])"
   ]
  },
  {
   "cell_type": "code",
   "execution_count": null,
   "id": "3e5f3500",
   "metadata": {},
   "outputs": [],
   "source": [
    "unit_circle = teams.loc[(teams.team=='unit_circle') & (teams.active_reserve=='Active')].index\n",
    "\n",
    "live['thru_hp'] = live['thru'] + 18\n",
    "\n",
    "# live[live.player.isin([unit_circle])]#[['player','total','round','thru','thru_hp']].reset_index(drop=True)"
   ]
  },
  {
   "cell_type": "code",
   "execution_count": null,
   "id": "8de6eea5",
   "metadata": {},
   "outputs": [],
   "source": [
    "def get_active_rosters(teams):\n",
    "    active_rosters = []\n",
    "    \n",
    "    for team in teams.team.unique():\n",
    "        one_roster = teams.loc[(teams.team==team) & (teams.active_reserve=='Active')].index\n",
    "        active_rosters.append(one_roster)\n",
    "        \n",
    "    cols = teams.team.unique()\n",
    "    active_rosters = pd.DataFrame(active_rosters, index=cols).T\n",
    "    return active_rosters"
   ]
  },
  {
   "cell_type": "code",
   "execution_count": null,
   "id": "6af28693",
   "metadata": {},
   "outputs": [],
   "source": [
    "get_active_rosters(teams)"
   ]
  },
  {
   "cell_type": "code",
   "execution_count": null,
   "id": "e9a7c9e4",
   "metadata": {},
   "outputs": [],
   "source": [
    "active_rosters = []\n",
    "\n",
    "for team in teams.team.unique():\n",
    "    one_roster = teams.loc[(teams.team==team) & (teams.active_reserve=='Active')].index\n",
    "    active_rosters.append(one_roster)\n",
    "\n",
    "cols = teams.team.unique()\n",
    "active_rosters = pd.DataFrame(active_rosters, index=cols).T\n",
    "active_rosters"
   ]
  },
  {
   "cell_type": "code",
   "execution_count": null,
   "id": "cee2f278",
   "metadata": {},
   "outputs": [],
   "source": []
  }
 ],
 "metadata": {
  "kernelspec": {
   "display_name": "Python 3 (ipykernel)",
   "language": "python",
   "name": "python3"
  },
  "language_info": {
   "codemirror_mode": {
    "name": "ipython",
    "version": 3
   },
   "file_extension": ".py",
   "mimetype": "text/x-python",
   "name": "python",
   "nbconvert_exporter": "python",
   "pygments_lexer": "ipython3",
   "version": "3.11.5"
  }
 },
 "nbformat": 4,
 "nbformat_minor": 5
}

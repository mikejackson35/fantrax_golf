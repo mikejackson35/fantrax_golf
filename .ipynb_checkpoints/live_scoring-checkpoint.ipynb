{
 "cells": [
  {
   "cell_type": "code",
   "execution_count": 89,
   "id": "1549c272",
   "metadata": {},
   "outputs": [],
   "source": [
    "import pandas as pd\n",
    "import numpy as np\n",
    "import plotly.express as px\n",
    "import matplotlib\n",
    "\n",
    "pd.set_option('display.max_columns', None)\n"
   ]
  },
  {
   "cell_type": "code",
   "execution_count": 90,
   "id": "0812182d",
   "metadata": {},
   "outputs": [],
   "source": [
    "## fantrax rosters\n",
    "\n",
    "fx = r\"C:\\Users\\mikej\\Desktop\\fantrax\\fx_wk9.csv\"\n",
    "\n",
    "teams = pd.read_csv(fx ,usecols=['Player','Status','Roster Status'])\n",
    "teams.columns = ['player','team','active_reserve']\n",
    "teams_dict = {'919':'Philly919','u_c':'unit_circle','NT 8':'Sneads Foot','NT 4':'New Team 4','txms':'txmoonshine','MG':'Team Gamble','grrr':'Putt Pirates','[AW]':'AlphaWired'}\n",
    "teams['team'] = teams.team.map(teams_dict)\n",
    "teams = teams.loc[teams.active_reserve=='Active'].set_index('player')"
   ]
  },
  {
   "cell_type": "code",
   "execution_count": 91,
   "id": "3c12c4eb",
   "metadata": {},
   "outputs": [],
   "source": [
    "## live scoring feed\n",
    "\n",
    "file = \"https://feeds.datagolf.com/preds/live-tournament-stats?stats=sg_putt,sg_arg,sg_app,sg_ott,sg_t2g,sg_bs,sg_total,distance,accuracy,gir,prox_fw,prox_rgh,scrambling&round=event_avg&display=value&file_format=csv&key=e297e933c3ad47d71ec1626c299e\"\n",
    "\n",
    "live = round(pd.read_csv(file),2).rename(columns={'player_name':'player'})#.set_index('player')\n",
    "\n",
    "names = live['player'].str.split(expand=True)\n",
    "names[0] = names[0].str.rstrip(\",\")\n",
    "names[1] = names[1].str.rstrip(\",\")\n",
    "names['player'] = names[1] + \" \" + names[0]\n",
    "names['player'] = np.where(names['player']=='Min Lee', 'Min Woo Lee', names['player'])\n",
    "names['player'] = np.where(names['player']=='Byeong An', 'Byeong Hun An', names['player'])\n",
    "names['player'] = np.where(names['player']=='Rooyen Van', 'Erik Van Rooyen', names['player'])\n",
    "live = live.set_index(names.player)"
   ]
  },
  {
   "cell_type": "code",
   "execution_count": 92,
   "id": "17726471",
   "metadata": {},
   "outputs": [],
   "source": [
    "team_color={\n",
    "                \"Philly919\": 'rgb(127,60,141)',\n",
    "                \"unit_cirle\": 'rgb(17,165,121)',\n",
    "                \"AlphaWired\": 'rgb(57,105,172)',\n",
    "                \"Sneads Foot\": 'rgb(242,183,1)',\n",
    "                \"New Team 4\": 'rgb(231,63,116)',\n",
    "                \"Team Gamble\": 'rgb(230,131,16)',\n",
    "                \"txmoonshine\": 'rgb(0,134,139)',\n",
    "                \"Putt Pirates\": 'rgb(165,170,153)'}"
   ]
  },
  {
   "cell_type": "code",
   "execution_count": 93,
   "id": "05353972",
   "metadata": {},
   "outputs": [
    {
     "data": {
      "text/html": [
       "<div>\n",
       "<style scoped>\n",
       "    .dataframe tbody tr th:only-of-type {\n",
       "        vertical-align: middle;\n",
       "    }\n",
       "\n",
       "    .dataframe tbody tr th {\n",
       "        vertical-align: top;\n",
       "    }\n",
       "\n",
       "    .dataframe thead th {\n",
       "        text-align: right;\n",
       "    }\n",
       "</style>\n",
       "<table border=\"1\" class=\"dataframe\">\n",
       "  <thead>\n",
       "    <tr style=\"text-align: right;\">\n",
       "      <th></th>\n",
       "      <th>player</th>\n",
       "      <th>team</th>\n",
       "      <th>position</th>\n",
       "      <th>total</th>\n",
       "      <th>round</th>\n",
       "      <th>thru</th>\n",
       "      <th>sg_putt</th>\n",
       "      <th>sg_t2g</th>\n",
       "      <th>sg_total</th>\n",
       "      <th>gir</th>\n",
       "      <th>holes_remaining</th>\n",
       "    </tr>\n",
       "  </thead>\n",
       "  <tbody>\n",
       "    <tr>\n",
       "      <th>0</th>\n",
       "      <td>Lee, Min Woo</td>\n",
       "      <td>unit_circle</td>\n",
       "      <td>T2</td>\n",
       "      <td>-14.0</td>\n",
       "      <td>-4.0</td>\n",
       "      <td>18.0</td>\n",
       "      <td>0.24</td>\n",
       "      <td>2.17</td>\n",
       "      <td>2.42</td>\n",
       "      <td>0.64</td>\n",
       "      <td>54</td>\n",
       "    </tr>\n",
       "    <tr>\n",
       "      <th>1</th>\n",
       "      <td>Van Rooyen, Erik</td>\n",
       "      <td>New Team 4</td>\n",
       "      <td>T2</td>\n",
       "      <td>-14.0</td>\n",
       "      <td>-8.0</td>\n",
       "      <td>18.0</td>\n",
       "      <td>1.96</td>\n",
       "      <td>0.46</td>\n",
       "      <td>2.42</td>\n",
       "      <td>0.75</td>\n",
       "      <td>54</td>\n",
       "    </tr>\n",
       "    <tr>\n",
       "      <th>2</th>\n",
       "      <td>Knapp, Jake</td>\n",
       "      <td>unit_circle</td>\n",
       "      <td>T4</td>\n",
       "      <td>-13.0</td>\n",
       "      <td>-5.0</td>\n",
       "      <td>18.0</td>\n",
       "      <td>0.37</td>\n",
       "      <td>1.80</td>\n",
       "      <td>2.16</td>\n",
       "      <td>0.71</td>\n",
       "      <td>54</td>\n",
       "    </tr>\n",
       "  </tbody>\n",
       "</table>\n",
       "</div>"
      ],
      "text/plain": [
       "             player         team position  total  round  thru  sg_putt  \\\n",
       "0      Lee, Min Woo  unit_circle       T2  -14.0   -4.0  18.0     0.24   \n",
       "1  Van Rooyen, Erik   New Team 4       T2  -14.0   -8.0  18.0     1.96   \n",
       "2       Knapp, Jake  unit_circle       T4  -13.0   -5.0  18.0     0.37   \n",
       "\n",
       "   sg_t2g  sg_total   gir  holes_remaining  \n",
       "0    2.17      2.42  0.64               54  \n",
       "1    0.46      2.42  0.75               54  \n",
       "2    1.80      2.16  0.71               54  "
      ]
     },
     "execution_count": 93,
     "metadata": {},
     "output_type": "execute_result"
    }
   ],
   "source": [
    "live_merged = pd.merge(teams, live, how='left', left_index=True, right_index=True)[['player','team','position','total','round','thru','sg_putt','sg_t2g','sg_total','gir']].fillna(0).sort_values('total')\n",
    "live_merged['holes_remaining'] = (72 - (live_merged['thru']).fillna(0))\n",
    "live_merged['holes_remaining'] = np.where(live_merged['position']=='CUT',0,live_merged['holes_remaining']).astype('int')\n",
    "live_merged = live_merged.reset_index(drop=True)\n",
    "live_merged.head(3)"
   ]
  },
  {
   "cell_type": "code",
   "execution_count": 94,
   "id": "520c238a",
   "metadata": {},
   "outputs": [
    {
     "data": {
      "text/html": [
       "<style type=\"text/css\">\n",
       "#T_0d861_row0_col0, #T_0d861_row0_col1, #T_0d861_row0_col2, #T_0d861_row0_col3, #T_0d861_row0_col4, #T_0d861_row0_col5, #T_0d861_row2_col0, #T_0d861_row2_col1, #T_0d861_row2_col2, #T_0d861_row2_col3, #T_0d861_row2_col4, #T_0d861_row2_col5, #T_0d861_row3_col0, #T_0d861_row3_col1, #T_0d861_row3_col2, #T_0d861_row3_col3, #T_0d861_row3_col4, #T_0d861_row3_col5, #T_0d861_row12_col0, #T_0d861_row12_col1, #T_0d861_row12_col2, #T_0d861_row12_col3, #T_0d861_row12_col4, #T_0d861_row12_col5, #T_0d861_row26_col0, #T_0d861_row26_col1, #T_0d861_row26_col2, #T_0d861_row26_col3, #T_0d861_row26_col4, #T_0d861_row26_col5, #T_0d861_row33_col0, #T_0d861_row33_col1, #T_0d861_row33_col2, #T_0d861_row33_col3, #T_0d861_row33_col4, #T_0d861_row33_col5 {\n",
       "  background-color: #FF99FF;\n",
       "}\n",
       "#T_0d861_row1_col0, #T_0d861_row1_col1, #T_0d861_row1_col2, #T_0d861_row1_col3, #T_0d861_row1_col4, #T_0d861_row1_col5, #T_0d861_row4_col0, #T_0d861_row4_col1, #T_0d861_row4_col2, #T_0d861_row4_col3, #T_0d861_row4_col4, #T_0d861_row4_col5, #T_0d861_row20_col0, #T_0d861_row20_col1, #T_0d861_row20_col2, #T_0d861_row20_col3, #T_0d861_row20_col4, #T_0d861_row20_col5, #T_0d861_row41_col0, #T_0d861_row41_col1, #T_0d861_row41_col2, #T_0d861_row41_col3, #T_0d861_row41_col4, #T_0d861_row41_col5, #T_0d861_row43_col0, #T_0d861_row43_col1, #T_0d861_row43_col2, #T_0d861_row43_col3, #T_0d861_row43_col4, #T_0d861_row43_col5, #T_0d861_row46_col0, #T_0d861_row46_col1, #T_0d861_row46_col2, #T_0d861_row46_col3, #T_0d861_row46_col4, #T_0d861_row46_col5 {\n",
       "  background-color: #e73f74;\n",
       "}\n",
       "#T_0d861_row5_col0, #T_0d861_row5_col1, #T_0d861_row5_col2, #T_0d861_row5_col3, #T_0d861_row5_col4, #T_0d861_row5_col5, #T_0d861_row6_col0, #T_0d861_row6_col1, #T_0d861_row6_col2, #T_0d861_row6_col3, #T_0d861_row6_col4, #T_0d861_row6_col5, #T_0d861_row14_col0, #T_0d861_row14_col1, #T_0d861_row14_col2, #T_0d861_row14_col3, #T_0d861_row14_col4, #T_0d861_row14_col5, #T_0d861_row15_col0, #T_0d861_row15_col1, #T_0d861_row15_col2, #T_0d861_row15_col3, #T_0d861_row15_col4, #T_0d861_row15_col5, #T_0d861_row16_col0, #T_0d861_row16_col1, #T_0d861_row16_col2, #T_0d861_row16_col3, #T_0d861_row16_col4, #T_0d861_row16_col5, #T_0d861_row45_col0, #T_0d861_row45_col1, #T_0d861_row45_col2, #T_0d861_row45_col3, #T_0d861_row45_col4, #T_0d861_row45_col5 {\n",
       "  background-color: #f2b701;\n",
       "}\n",
       "#T_0d861_row7_col0, #T_0d861_row7_col1, #T_0d861_row7_col2, #T_0d861_row7_col3, #T_0d861_row7_col4, #T_0d861_row7_col5, #T_0d861_row8_col0, #T_0d861_row8_col1, #T_0d861_row8_col2, #T_0d861_row8_col3, #T_0d861_row8_col4, #T_0d861_row8_col5, #T_0d861_row9_col0, #T_0d861_row9_col1, #T_0d861_row9_col2, #T_0d861_row9_col3, #T_0d861_row9_col4, #T_0d861_row9_col5, #T_0d861_row11_col0, #T_0d861_row11_col1, #T_0d861_row11_col2, #T_0d861_row11_col3, #T_0d861_row11_col4, #T_0d861_row11_col5, #T_0d861_row21_col0, #T_0d861_row21_col1, #T_0d861_row21_col2, #T_0d861_row21_col3, #T_0d861_row21_col4, #T_0d861_row21_col5, #T_0d861_row47_col0, #T_0d861_row47_col1, #T_0d861_row47_col2, #T_0d861_row47_col3, #T_0d861_row47_col4, #T_0d861_row47_col5 {\n",
       "  background-color: #e68310;\n",
       "}\n",
       "#T_0d861_row10_col0, #T_0d861_row10_col1, #T_0d861_row10_col2, #T_0d861_row10_col3, #T_0d861_row10_col4, #T_0d861_row10_col5, #T_0d861_row13_col0, #T_0d861_row13_col1, #T_0d861_row13_col2, #T_0d861_row13_col3, #T_0d861_row13_col4, #T_0d861_row13_col5, #T_0d861_row18_col0, #T_0d861_row18_col1, #T_0d861_row18_col2, #T_0d861_row18_col3, #T_0d861_row18_col4, #T_0d861_row18_col5, #T_0d861_row32_col0, #T_0d861_row32_col1, #T_0d861_row32_col2, #T_0d861_row32_col3, #T_0d861_row32_col4, #T_0d861_row32_col5, #T_0d861_row42_col0, #T_0d861_row42_col1, #T_0d861_row42_col2, #T_0d861_row42_col3, #T_0d861_row42_col4, #T_0d861_row42_col5, #T_0d861_row44_col0, #T_0d861_row44_col1, #T_0d861_row44_col2, #T_0d861_row44_col3, #T_0d861_row44_col4, #T_0d861_row44_col5 {\n",
       "  background-color: #7f3c8d;\n",
       "}\n",
       "#T_0d861_row17_col0, #T_0d861_row17_col1, #T_0d861_row17_col2, #T_0d861_row17_col3, #T_0d861_row17_col4, #T_0d861_row17_col5, #T_0d861_row22_col0, #T_0d861_row22_col1, #T_0d861_row22_col2, #T_0d861_row22_col3, #T_0d861_row22_col4, #T_0d861_row22_col5, #T_0d861_row24_col0, #T_0d861_row24_col1, #T_0d861_row24_col2, #T_0d861_row24_col3, #T_0d861_row24_col4, #T_0d861_row24_col5, #T_0d861_row25_col0, #T_0d861_row25_col1, #T_0d861_row25_col2, #T_0d861_row25_col3, #T_0d861_row25_col4, #T_0d861_row25_col5, #T_0d861_row36_col0, #T_0d861_row36_col1, #T_0d861_row36_col2, #T_0d861_row36_col3, #T_0d861_row36_col4, #T_0d861_row36_col5, #T_0d861_row40_col0, #T_0d861_row40_col1, #T_0d861_row40_col2, #T_0d861_row40_col3, #T_0d861_row40_col4, #T_0d861_row40_col5 {\n",
       "  background-color: #00868b;\n",
       "}\n",
       "#T_0d861_row19_col0, #T_0d861_row19_col1, #T_0d861_row19_col2, #T_0d861_row19_col3, #T_0d861_row19_col4, #T_0d861_row19_col5, #T_0d861_row27_col0, #T_0d861_row27_col1, #T_0d861_row27_col2, #T_0d861_row27_col3, #T_0d861_row27_col4, #T_0d861_row27_col5, #T_0d861_row28_col0, #T_0d861_row28_col1, #T_0d861_row28_col2, #T_0d861_row28_col3, #T_0d861_row28_col4, #T_0d861_row28_col5, #T_0d861_row34_col0, #T_0d861_row34_col1, #T_0d861_row34_col2, #T_0d861_row34_col3, #T_0d861_row34_col4, #T_0d861_row34_col5, #T_0d861_row37_col0, #T_0d861_row37_col1, #T_0d861_row37_col2, #T_0d861_row37_col3, #T_0d861_row37_col4, #T_0d861_row37_col5, #T_0d861_row38_col0, #T_0d861_row38_col1, #T_0d861_row38_col2, #T_0d861_row38_col3, #T_0d861_row38_col4, #T_0d861_row38_col5 {\n",
       "  background-color: #a5aa99;\n",
       "}\n",
       "#T_0d861_row23_col0, #T_0d861_row23_col1, #T_0d861_row23_col2, #T_0d861_row23_col3, #T_0d861_row23_col4, #T_0d861_row23_col5, #T_0d861_row29_col0, #T_0d861_row29_col1, #T_0d861_row29_col2, #T_0d861_row29_col3, #T_0d861_row29_col4, #T_0d861_row29_col5, #T_0d861_row30_col0, #T_0d861_row30_col1, #T_0d861_row30_col2, #T_0d861_row30_col3, #T_0d861_row30_col4, #T_0d861_row30_col5, #T_0d861_row31_col0, #T_0d861_row31_col1, #T_0d861_row31_col2, #T_0d861_row31_col3, #T_0d861_row31_col4, #T_0d861_row31_col5, #T_0d861_row35_col0, #T_0d861_row35_col1, #T_0d861_row35_col2, #T_0d861_row35_col3, #T_0d861_row35_col4, #T_0d861_row35_col5, #T_0d861_row39_col0, #T_0d861_row39_col1, #T_0d861_row39_col2, #T_0d861_row39_col3, #T_0d861_row39_col4, #T_0d861_row39_col5 {\n",
       "  background-color: #3969ac;\n",
       "}\n",
       "</style>\n",
       "<table id=\"T_0d861\">\n",
       "  <thead>\n",
       "    <tr>\n",
       "      <th class=\"blank level0\" >&nbsp;</th>\n",
       "      <th id=\"T_0d861_level0_col0\" class=\"col_heading level0 col0\" >Player</th>\n",
       "      <th id=\"T_0d861_level0_col1\" class=\"col_heading level0 col1\" >Team</th>\n",
       "      <th id=\"T_0d861_level0_col2\" class=\"col_heading level0 col2\" >Pos</th>\n",
       "      <th id=\"T_0d861_level0_col3\" class=\"col_heading level0 col3\" >Total</th>\n",
       "      <th id=\"T_0d861_level0_col4\" class=\"col_heading level0 col4\" >Round</th>\n",
       "      <th id=\"T_0d861_level0_col5\" class=\"col_heading level0 col5\" >Thru</th>\n",
       "    </tr>\n",
       "  </thead>\n",
       "  <tbody>\n",
       "    <tr>\n",
       "      <th id=\"T_0d861_level0_row0\" class=\"row_heading level0 row0\" >0</th>\n",
       "      <td id=\"T_0d861_row0_col0\" class=\"data row0 col0\" >Lee, Min Woo</td>\n",
       "      <td id=\"T_0d861_row0_col1\" class=\"data row0 col1\" >unit_circle</td>\n",
       "      <td id=\"T_0d861_row0_col2\" class=\"data row0 col2\" >T2</td>\n",
       "      <td id=\"T_0d861_row0_col3\" class=\"data row0 col3\" >-14</td>\n",
       "      <td id=\"T_0d861_row0_col4\" class=\"data row0 col4\" >-4</td>\n",
       "      <td id=\"T_0d861_row0_col5\" class=\"data row0 col5\" >18</td>\n",
       "    </tr>\n",
       "    <tr>\n",
       "      <th id=\"T_0d861_level0_row1\" class=\"row_heading level0 row1\" >1</th>\n",
       "      <td id=\"T_0d861_row1_col0\" class=\"data row1 col0\" >Van Rooyen, Erik</td>\n",
       "      <td id=\"T_0d861_row1_col1\" class=\"data row1 col1\" >New Team 4</td>\n",
       "      <td id=\"T_0d861_row1_col2\" class=\"data row1 col2\" >T2</td>\n",
       "      <td id=\"T_0d861_row1_col3\" class=\"data row1 col3\" >-14</td>\n",
       "      <td id=\"T_0d861_row1_col4\" class=\"data row1 col4\" >-8</td>\n",
       "      <td id=\"T_0d861_row1_col5\" class=\"data row1 col5\" >18</td>\n",
       "    </tr>\n",
       "    <tr>\n",
       "      <th id=\"T_0d861_level0_row2\" class=\"row_heading level0 row2\" >2</th>\n",
       "      <td id=\"T_0d861_row2_col0\" class=\"data row2 col0\" >Knapp, Jake</td>\n",
       "      <td id=\"T_0d861_row2_col1\" class=\"data row2 col1\" >unit_circle</td>\n",
       "      <td id=\"T_0d861_row2_col2\" class=\"data row2 col2\" >T4</td>\n",
       "      <td id=\"T_0d861_row2_col3\" class=\"data row2 col3\" >-13</td>\n",
       "      <td id=\"T_0d861_row2_col4\" class=\"data row2 col4\" >-5</td>\n",
       "      <td id=\"T_0d861_row2_col5\" class=\"data row2 col5\" >18</td>\n",
       "    </tr>\n",
       "    <tr>\n",
       "      <th id=\"T_0d861_level0_row3\" class=\"row_heading level0 row3\" >3</th>\n",
       "      <td id=\"T_0d861_row3_col0\" class=\"data row3 col0\" >Lowry, Shane</td>\n",
       "      <td id=\"T_0d861_row3_col1\" class=\"data row3 col1\" >unit_circle</td>\n",
       "      <td id=\"T_0d861_row3_col2\" class=\"data row3 col2\" >T4</td>\n",
       "      <td id=\"T_0d861_row3_col3\" class=\"data row3 col3\" >-13</td>\n",
       "      <td id=\"T_0d861_row3_col4\" class=\"data row3 col4\" >0</td>\n",
       "      <td id=\"T_0d861_row3_col5\" class=\"data row3 col5\" >18</td>\n",
       "    </tr>\n",
       "    <tr>\n",
       "      <th id=\"T_0d861_level0_row4\" class=\"row_heading level0 row4\" >4</th>\n",
       "      <td id=\"T_0d861_row4_col0\" class=\"data row4 col0\" >Young, Cameron</td>\n",
       "      <td id=\"T_0d861_row4_col1\" class=\"data row4 col1\" >New Team 4</td>\n",
       "      <td id=\"T_0d861_row4_col2\" class=\"data row4 col2\" >T4</td>\n",
       "      <td id=\"T_0d861_row4_col3\" class=\"data row4 col3\" >-13</td>\n",
       "      <td id=\"T_0d861_row4_col4\" class=\"data row4 col4\" >-5</td>\n",
       "      <td id=\"T_0d861_row4_col5\" class=\"data row4 col5\" >18</td>\n",
       "    </tr>\n",
       "    <tr>\n",
       "      <th id=\"T_0d861_level0_row5\" class=\"row_heading level0 row5\" >5</th>\n",
       "      <td id=\"T_0d861_row5_col0\" class=\"data row5 col0\" >Ryder, Sam</td>\n",
       "      <td id=\"T_0d861_row5_col1\" class=\"data row5 col1\" >Sneads Foot</td>\n",
       "      <td id=\"T_0d861_row5_col2\" class=\"data row5 col2\" >T21</td>\n",
       "      <td id=\"T_0d861_row5_col3\" class=\"data row5 col3\" >-10</td>\n",
       "      <td id=\"T_0d861_row5_col4\" class=\"data row5 col4\" >-5</td>\n",
       "      <td id=\"T_0d861_row5_col5\" class=\"data row5 col5\" >18</td>\n",
       "    </tr>\n",
       "    <tr>\n",
       "      <th id=\"T_0d861_level0_row6\" class=\"row_heading level0 row6\" >6</th>\n",
       "      <td id=\"T_0d861_row6_col0\" class=\"data row6 col0\" >McIlroy, Rory</td>\n",
       "      <td id=\"T_0d861_row6_col1\" class=\"data row6 col1\" >Sneads Foot</td>\n",
       "      <td id=\"T_0d861_row6_col2\" class=\"data row6 col2\" >T21</td>\n",
       "      <td id=\"T_0d861_row6_col3\" class=\"data row6 col3\" >-10</td>\n",
       "      <td id=\"T_0d861_row6_col4\" class=\"data row6 col4\" >-3</td>\n",
       "      <td id=\"T_0d861_row6_col5\" class=\"data row6 col5\" >18</td>\n",
       "    </tr>\n",
       "    <tr>\n",
       "      <th id=\"T_0d861_level0_row7\" class=\"row_heading level0 row7\" >7</th>\n",
       "      <td id=\"T_0d861_row7_col0\" class=\"data row7 col0\" >An, Byeong Hun</td>\n",
       "      <td id=\"T_0d861_row7_col1\" class=\"data row7 col1\" >Team Gamble</td>\n",
       "      <td id=\"T_0d861_row7_col2\" class=\"data row7 col2\" >T21</td>\n",
       "      <td id=\"T_0d861_row7_col3\" class=\"data row7 col3\" >-10</td>\n",
       "      <td id=\"T_0d861_row7_col4\" class=\"data row7 col4\" >-6</td>\n",
       "      <td id=\"T_0d861_row7_col5\" class=\"data row7 col5\" >18</td>\n",
       "    </tr>\n",
       "    <tr>\n",
       "      <th id=\"T_0d861_level0_row8\" class=\"row_heading level0 row8\" >8</th>\n",
       "      <td id=\"T_0d861_row8_col0\" class=\"data row8 col0\" >Hoge, Tom</td>\n",
       "      <td id=\"T_0d861_row8_col1\" class=\"data row8 col1\" >Team Gamble</td>\n",
       "      <td id=\"T_0d861_row8_col2\" class=\"data row8 col2\" >T28</td>\n",
       "      <td id=\"T_0d861_row8_col3\" class=\"data row8 col3\" >-9</td>\n",
       "      <td id=\"T_0d861_row8_col4\" class=\"data row8 col4\" >-3</td>\n",
       "      <td id=\"T_0d861_row8_col5\" class=\"data row8 col5\" >18</td>\n",
       "    </tr>\n",
       "    <tr>\n",
       "      <th id=\"T_0d861_level0_row9\" class=\"row_heading level0 row9\" >9</th>\n",
       "      <td id=\"T_0d861_row9_col0\" class=\"data row9 col0\" >Pavon, Matthieu</td>\n",
       "      <td id=\"T_0d861_row9_col1\" class=\"data row9 col1\" >Team Gamble</td>\n",
       "      <td id=\"T_0d861_row9_col2\" class=\"data row9 col2\" >T28</td>\n",
       "      <td id=\"T_0d861_row9_col3\" class=\"data row9 col3\" >-9</td>\n",
       "      <td id=\"T_0d861_row9_col4\" class=\"data row9 col4\" >-1</td>\n",
       "      <td id=\"T_0d861_row9_col5\" class=\"data row9 col5\" >18</td>\n",
       "    </tr>\n",
       "    <tr>\n",
       "      <th id=\"T_0d861_level0_row10\" class=\"row_heading level0 row10\" >10</th>\n",
       "      <td id=\"T_0d861_row10_col0\" class=\"data row10 col0\" >Kirk, Chris</td>\n",
       "      <td id=\"T_0d861_row10_col1\" class=\"data row10 col1\" >Philly919</td>\n",
       "      <td id=\"T_0d861_row10_col2\" class=\"data row10 col2\" >T28</td>\n",
       "      <td id=\"T_0d861_row10_col3\" class=\"data row10 col3\" >-9</td>\n",
       "      <td id=\"T_0d861_row10_col4\" class=\"data row10 col4\" >-6</td>\n",
       "      <td id=\"T_0d861_row10_col5\" class=\"data row10 col5\" >18</td>\n",
       "    </tr>\n",
       "    <tr>\n",
       "      <th id=\"T_0d861_level0_row11\" class=\"row_heading level0 row11\" >11</th>\n",
       "      <td id=\"T_0d861_row11_col0\" class=\"data row11 col0\" >Hadley, Chesson</td>\n",
       "      <td id=\"T_0d861_row11_col1\" class=\"data row11 col1\" >Team Gamble</td>\n",
       "      <td id=\"T_0d861_row11_col2\" class=\"data row11 col2\" >T35</td>\n",
       "      <td id=\"T_0d861_row11_col3\" class=\"data row11 col3\" >-8</td>\n",
       "      <td id=\"T_0d861_row11_col4\" class=\"data row11 col4\" >-2</td>\n",
       "      <td id=\"T_0d861_row11_col5\" class=\"data row11 col5\" >18</td>\n",
       "    </tr>\n",
       "    <tr>\n",
       "      <th id=\"T_0d861_level0_row12\" class=\"row_heading level0 row12\" >12</th>\n",
       "      <td id=\"T_0d861_row12_col0\" class=\"data row12 col0\" >Conners, Corey</td>\n",
       "      <td id=\"T_0d861_row12_col1\" class=\"data row12 col1\" >unit_circle</td>\n",
       "      <td id=\"T_0d861_row12_col2\" class=\"data row12 col2\" >T41</td>\n",
       "      <td id=\"T_0d861_row12_col3\" class=\"data row12 col3\" >-7</td>\n",
       "      <td id=\"T_0d861_row12_col4\" class=\"data row12 col4\" >-5</td>\n",
       "      <td id=\"T_0d861_row12_col5\" class=\"data row12 col5\" >18</td>\n",
       "    </tr>\n",
       "    <tr>\n",
       "      <th id=\"T_0d861_level0_row13\" class=\"row_heading level0 row13\" >13</th>\n",
       "      <td id=\"T_0d861_row13_col0\" class=\"data row13 col0\" >Henley, Russell</td>\n",
       "      <td id=\"T_0d861_row13_col1\" class=\"data row13 col1\" >Philly919</td>\n",
       "      <td id=\"T_0d861_row13_col2\" class=\"data row13 col2\" >T41</td>\n",
       "      <td id=\"T_0d861_row13_col3\" class=\"data row13 col3\" >-7</td>\n",
       "      <td id=\"T_0d861_row13_col4\" class=\"data row13 col4\" >1</td>\n",
       "      <td id=\"T_0d861_row13_col5\" class=\"data row13 col5\" >18</td>\n",
       "    </tr>\n",
       "    <tr>\n",
       "      <th id=\"T_0d861_level0_row14\" class=\"row_heading level0 row14\" >14</th>\n",
       "      <td id=\"T_0d861_row14_col0\" class=\"data row14 col0\" >Fowler, Rickie</td>\n",
       "      <td id=\"T_0d861_row14_col1\" class=\"data row14 col1\" >Sneads Foot</td>\n",
       "      <td id=\"T_0d861_row14_col2\" class=\"data row14 col2\" >T41</td>\n",
       "      <td id=\"T_0d861_row14_col3\" class=\"data row14 col3\" >-7</td>\n",
       "      <td id=\"T_0d861_row14_col4\" class=\"data row14 col4\" >1</td>\n",
       "      <td id=\"T_0d861_row14_col5\" class=\"data row14 col5\" >18</td>\n",
       "    </tr>\n",
       "    <tr>\n",
       "      <th id=\"T_0d861_level0_row15\" class=\"row_heading level0 row15\" >15</th>\n",
       "      <td id=\"T_0d861_row15_col0\" class=\"data row15 col0\" >Coody, Parker</td>\n",
       "      <td id=\"T_0d861_row15_col1\" class=\"data row15 col1\" >Sneads Foot</td>\n",
       "      <td id=\"T_0d861_row15_col2\" class=\"data row15 col2\" >T47</td>\n",
       "      <td id=\"T_0d861_row15_col3\" class=\"data row15 col3\" >-6</td>\n",
       "      <td id=\"T_0d861_row15_col4\" class=\"data row15 col4\" >2</td>\n",
       "      <td id=\"T_0d861_row15_col5\" class=\"data row15 col5\" >18</td>\n",
       "    </tr>\n",
       "    <tr>\n",
       "      <th id=\"T_0d861_level0_row16\" class=\"row_heading level0 row16\" >16</th>\n",
       "      <td id=\"T_0d861_row16_col0\" class=\"data row16 col0\" >Dunlap, Nick</td>\n",
       "      <td id=\"T_0d861_row16_col1\" class=\"data row16 col1\" >Sneads Foot</td>\n",
       "      <td id=\"T_0d861_row16_col2\" class=\"data row16 col2\" >T53</td>\n",
       "      <td id=\"T_0d861_row16_col3\" class=\"data row16 col3\" >-5</td>\n",
       "      <td id=\"T_0d861_row16_col4\" class=\"data row16 col4\" >0</td>\n",
       "      <td id=\"T_0d861_row16_col5\" class=\"data row16 col5\" >18</td>\n",
       "    </tr>\n",
       "    <tr>\n",
       "      <th id=\"T_0d861_level0_row17\" class=\"row_heading level0 row17\" >17</th>\n",
       "      <td id=\"T_0d861_row17_col0\" class=\"data row17 col0\" >Kim, Tom</td>\n",
       "      <td id=\"T_0d861_row17_col1\" class=\"data row17 col1\" >txmoonshine</td>\n",
       "      <td id=\"T_0d861_row17_col2\" class=\"data row17 col2\" >T62</td>\n",
       "      <td id=\"T_0d861_row17_col3\" class=\"data row17 col3\" >-2</td>\n",
       "      <td id=\"T_0d861_row17_col4\" class=\"data row17 col4\" >5</td>\n",
       "      <td id=\"T_0d861_row17_col5\" class=\"data row17 col5\" >18</td>\n",
       "    </tr>\n",
       "    <tr>\n",
       "      <th id=\"T_0d861_level0_row18\" class=\"row_heading level0 row18\" >18</th>\n",
       "      <td id=\"T_0d861_row18_col0\" class=\"data row18 col0\" >Rose, Justin</td>\n",
       "      <td id=\"T_0d861_row18_col1\" class=\"data row18 col1\" >Philly919</td>\n",
       "      <td id=\"T_0d861_row18_col2\" class=\"data row18 col2\" >T64</td>\n",
       "      <td id=\"T_0d861_row18_col3\" class=\"data row18 col3\" >-1</td>\n",
       "      <td id=\"T_0d861_row18_col4\" class=\"data row18 col4\" >-1</td>\n",
       "      <td id=\"T_0d861_row18_col5\" class=\"data row18 col5\" >18</td>\n",
       "    </tr>\n",
       "    <tr>\n",
       "      <th id=\"T_0d861_level0_row19\" class=\"row_heading level0 row19\" >19</th>\n",
       "      <td id=\"T_0d861_row19_col0\" class=\"data row19 col0\" >Bezuidenhout, Christiaan</td>\n",
       "      <td id=\"T_0d861_row19_col1\" class=\"data row19 col1\" >Putt Pirates</td>\n",
       "      <td id=\"T_0d861_row19_col2\" class=\"data row19 col2\" >CUT</td>\n",
       "      <td id=\"T_0d861_row19_col3\" class=\"data row19 col3\" >-1</td>\n",
       "      <td id=\"T_0d861_row19_col4\" class=\"data row19 col4\" >0</td>\n",
       "      <td id=\"T_0d861_row19_col5\" class=\"data row19 col5\" >0</td>\n",
       "    </tr>\n",
       "    <tr>\n",
       "      <th id=\"T_0d861_level0_row20\" class=\"row_heading level0 row20\" >20</th>\n",
       "      <td id=\"T_0d861_row20_col0\" class=\"data row20 col0\" >Suh, Justin</td>\n",
       "      <td id=\"T_0d861_row20_col1\" class=\"data row20 col1\" >New Team 4</td>\n",
       "      <td id=\"T_0d861_row20_col2\" class=\"data row20 col2\" >CUT</td>\n",
       "      <td id=\"T_0d861_row20_col3\" class=\"data row20 col3\" >-1</td>\n",
       "      <td id=\"T_0d861_row20_col4\" class=\"data row20 col4\" >0</td>\n",
       "      <td id=\"T_0d861_row20_col5\" class=\"data row20 col5\" >0</td>\n",
       "    </tr>\n",
       "    <tr>\n",
       "      <th id=\"T_0d861_level0_row21\" class=\"row_heading level0 row21\" >21</th>\n",
       "      <td id=\"T_0d861_row21_col0\" class=\"data row21 col0\" >Jaeger, Stephan</td>\n",
       "      <td id=\"T_0d861_row21_col1\" class=\"data row21 col1\" >Team Gamble</td>\n",
       "      <td id=\"T_0d861_row21_col2\" class=\"data row21 col2\" >CUT</td>\n",
       "      <td id=\"T_0d861_row21_col3\" class=\"data row21 col3\" >-1</td>\n",
       "      <td id=\"T_0d861_row21_col4\" class=\"data row21 col4\" >0</td>\n",
       "      <td id=\"T_0d861_row21_col5\" class=\"data row21 col5\" >0</td>\n",
       "    </tr>\n",
       "    <tr>\n",
       "      <th id=\"T_0d861_level0_row22\" class=\"row_heading level0 row22\" >40</th>\n",
       "      <td id=\"T_0d861_row22_col0\" class=\"data row22 col0\" >0</td>\n",
       "      <td id=\"T_0d861_row22_col1\" class=\"data row22 col1\" >txmoonshine</td>\n",
       "      <td id=\"T_0d861_row22_col2\" class=\"data row22 col2\" >0</td>\n",
       "      <td id=\"T_0d861_row22_col3\" class=\"data row22 col3\" >0</td>\n",
       "      <td id=\"T_0d861_row22_col4\" class=\"data row22 col4\" >0</td>\n",
       "      <td id=\"T_0d861_row22_col5\" class=\"data row22 col5\" >0</td>\n",
       "    </tr>\n",
       "    <tr>\n",
       "      <th id=\"T_0d861_level0_row23\" class=\"row_heading level0 row23\" >39</th>\n",
       "      <td id=\"T_0d861_row23_col0\" class=\"data row23 col0\" >0</td>\n",
       "      <td id=\"T_0d861_row23_col1\" class=\"data row23 col1\" >AlphaWired</td>\n",
       "      <td id=\"T_0d861_row23_col2\" class=\"data row23 col2\" >0</td>\n",
       "      <td id=\"T_0d861_row23_col3\" class=\"data row23 col3\" >0</td>\n",
       "      <td id=\"T_0d861_row23_col4\" class=\"data row23 col4\" >0</td>\n",
       "      <td id=\"T_0d861_row23_col5\" class=\"data row23 col5\" >0</td>\n",
       "    </tr>\n",
       "    <tr>\n",
       "      <th id=\"T_0d861_level0_row24\" class=\"row_heading level0 row24\" >38</th>\n",
       "      <td id=\"T_0d861_row24_col0\" class=\"data row24 col0\" >0</td>\n",
       "      <td id=\"T_0d861_row24_col1\" class=\"data row24 col1\" >txmoonshine</td>\n",
       "      <td id=\"T_0d861_row24_col2\" class=\"data row24 col2\" >0</td>\n",
       "      <td id=\"T_0d861_row24_col3\" class=\"data row24 col3\" >0</td>\n",
       "      <td id=\"T_0d861_row24_col4\" class=\"data row24 col4\" >0</td>\n",
       "      <td id=\"T_0d861_row24_col5\" class=\"data row24 col5\" >0</td>\n",
       "    </tr>\n",
       "    <tr>\n",
       "      <th id=\"T_0d861_level0_row25\" class=\"row_heading level0 row25\" >37</th>\n",
       "      <td id=\"T_0d861_row25_col0\" class=\"data row25 col0\" >Poston, J.T.</td>\n",
       "      <td id=\"T_0d861_row25_col1\" class=\"data row25 col1\" >txmoonshine</td>\n",
       "      <td id=\"T_0d861_row25_col2\" class=\"data row25 col2\" >66</td>\n",
       "      <td id=\"T_0d861_row25_col3\" class=\"data row25 col3\" >0</td>\n",
       "      <td id=\"T_0d861_row25_col4\" class=\"data row25 col4\" >4</td>\n",
       "      <td id=\"T_0d861_row25_col5\" class=\"data row25 col5\" >18</td>\n",
       "    </tr>\n",
       "    <tr>\n",
       "      <th id=\"T_0d861_level0_row26\" class=\"row_heading level0 row26\" >36</th>\n",
       "      <td id=\"T_0d861_row26_col0\" class=\"data row26 col0\" >0</td>\n",
       "      <td id=\"T_0d861_row26_col1\" class=\"data row26 col1\" >unit_circle</td>\n",
       "      <td id=\"T_0d861_row26_col2\" class=\"data row26 col2\" >0</td>\n",
       "      <td id=\"T_0d861_row26_col3\" class=\"data row26 col3\" >0</td>\n",
       "      <td id=\"T_0d861_row26_col4\" class=\"data row26 col4\" >0</td>\n",
       "      <td id=\"T_0d861_row26_col5\" class=\"data row26 col5\" >0</td>\n",
       "    </tr>\n",
       "    <tr>\n",
       "      <th id=\"T_0d861_level0_row27\" class=\"row_heading level0 row27\" >35</th>\n",
       "      <td id=\"T_0d861_row27_col0\" class=\"data row27 col0\" >0</td>\n",
       "      <td id=\"T_0d861_row27_col1\" class=\"data row27 col1\" >Putt Pirates</td>\n",
       "      <td id=\"T_0d861_row27_col2\" class=\"data row27 col2\" >0</td>\n",
       "      <td id=\"T_0d861_row27_col3\" class=\"data row27 col3\" >0</td>\n",
       "      <td id=\"T_0d861_row27_col4\" class=\"data row27 col4\" >0</td>\n",
       "      <td id=\"T_0d861_row27_col5\" class=\"data row27 col5\" >0</td>\n",
       "    </tr>\n",
       "    <tr>\n",
       "      <th id=\"T_0d861_level0_row28\" class=\"row_heading level0 row28\" >34</th>\n",
       "      <td id=\"T_0d861_row28_col0\" class=\"data row28 col0\" >0</td>\n",
       "      <td id=\"T_0d861_row28_col1\" class=\"data row28 col1\" >Putt Pirates</td>\n",
       "      <td id=\"T_0d861_row28_col2\" class=\"data row28 col2\" >0</td>\n",
       "      <td id=\"T_0d861_row28_col3\" class=\"data row28 col3\" >0</td>\n",
       "      <td id=\"T_0d861_row28_col4\" class=\"data row28 col4\" >0</td>\n",
       "      <td id=\"T_0d861_row28_col5\" class=\"data row28 col5\" >0</td>\n",
       "    </tr>\n",
       "    <tr>\n",
       "      <th id=\"T_0d861_level0_row29\" class=\"row_heading level0 row29\" >33</th>\n",
       "      <td id=\"T_0d861_row29_col0\" class=\"data row29 col0\" >0</td>\n",
       "      <td id=\"T_0d861_row29_col1\" class=\"data row29 col1\" >AlphaWired</td>\n",
       "      <td id=\"T_0d861_row29_col2\" class=\"data row29 col2\" >0</td>\n",
       "      <td id=\"T_0d861_row29_col3\" class=\"data row29 col3\" >0</td>\n",
       "      <td id=\"T_0d861_row29_col4\" class=\"data row29 col4\" >0</td>\n",
       "      <td id=\"T_0d861_row29_col5\" class=\"data row29 col5\" >0</td>\n",
       "    </tr>\n",
       "    <tr>\n",
       "      <th id=\"T_0d861_level0_row30\" class=\"row_heading level0 row30\" >32</th>\n",
       "      <td id=\"T_0d861_row30_col0\" class=\"data row30 col0\" >0</td>\n",
       "      <td id=\"T_0d861_row30_col1\" class=\"data row30 col1\" >AlphaWired</td>\n",
       "      <td id=\"T_0d861_row30_col2\" class=\"data row30 col2\" >0</td>\n",
       "      <td id=\"T_0d861_row30_col3\" class=\"data row30 col3\" >0</td>\n",
       "      <td id=\"T_0d861_row30_col4\" class=\"data row30 col4\" >0</td>\n",
       "      <td id=\"T_0d861_row30_col5\" class=\"data row30 col5\" >0</td>\n",
       "    </tr>\n",
       "    <tr>\n",
       "      <th id=\"T_0d861_level0_row31\" class=\"row_heading level0 row31\" >23</th>\n",
       "      <td id=\"T_0d861_row31_col0\" class=\"data row31 col0\" >0</td>\n",
       "      <td id=\"T_0d861_row31_col1\" class=\"data row31 col1\" >AlphaWired</td>\n",
       "      <td id=\"T_0d861_row31_col2\" class=\"data row31 col2\" >0</td>\n",
       "      <td id=\"T_0d861_row31_col3\" class=\"data row31 col3\" >0</td>\n",
       "      <td id=\"T_0d861_row31_col4\" class=\"data row31 col4\" >0</td>\n",
       "      <td id=\"T_0d861_row31_col5\" class=\"data row31 col5\" >0</td>\n",
       "    </tr>\n",
       "    <tr>\n",
       "      <th id=\"T_0d861_level0_row32\" class=\"row_heading level0 row32\" >30</th>\n",
       "      <td id=\"T_0d861_row32_col0\" class=\"data row32 col0\" >List, Luke</td>\n",
       "      <td id=\"T_0d861_row32_col1\" class=\"data row32 col1\" >Philly919</td>\n",
       "      <td id=\"T_0d861_row32_col2\" class=\"data row32 col2\" >CUT</td>\n",
       "      <td id=\"T_0d861_row32_col3\" class=\"data row32 col3\" >0</td>\n",
       "      <td id=\"T_0d861_row32_col4\" class=\"data row32 col4\" >0</td>\n",
       "      <td id=\"T_0d861_row32_col5\" class=\"data row32 col5\" >0</td>\n",
       "    </tr>\n",
       "    <tr>\n",
       "      <th id=\"T_0d861_level0_row33\" class=\"row_heading level0 row33\" >29</th>\n",
       "      <td id=\"T_0d861_row33_col0\" class=\"data row33 col0\" >0</td>\n",
       "      <td id=\"T_0d861_row33_col1\" class=\"data row33 col1\" >unit_circle</td>\n",
       "      <td id=\"T_0d861_row33_col2\" class=\"data row33 col2\" >0</td>\n",
       "      <td id=\"T_0d861_row33_col3\" class=\"data row33 col3\" >0</td>\n",
       "      <td id=\"T_0d861_row33_col4\" class=\"data row33 col4\" >0</td>\n",
       "      <td id=\"T_0d861_row33_col5\" class=\"data row33 col5\" >0</td>\n",
       "    </tr>\n",
       "    <tr>\n",
       "      <th id=\"T_0d861_level0_row34\" class=\"row_heading level0 row34\" >28</th>\n",
       "      <td id=\"T_0d861_row34_col0\" class=\"data row34 col0\" >0</td>\n",
       "      <td id=\"T_0d861_row34_col1\" class=\"data row34 col1\" >Putt Pirates</td>\n",
       "      <td id=\"T_0d861_row34_col2\" class=\"data row34 col2\" >0</td>\n",
       "      <td id=\"T_0d861_row34_col3\" class=\"data row34 col3\" >0</td>\n",
       "      <td id=\"T_0d861_row34_col4\" class=\"data row34 col4\" >0</td>\n",
       "      <td id=\"T_0d861_row34_col5\" class=\"data row34 col5\" >0</td>\n",
       "    </tr>\n",
       "    <tr>\n",
       "      <th id=\"T_0d861_level0_row35\" class=\"row_heading level0 row35\" >27</th>\n",
       "      <td id=\"T_0d861_row35_col0\" class=\"data row35 col0\" >0</td>\n",
       "      <td id=\"T_0d861_row35_col1\" class=\"data row35 col1\" >AlphaWired</td>\n",
       "      <td id=\"T_0d861_row35_col2\" class=\"data row35 col2\" >0</td>\n",
       "      <td id=\"T_0d861_row35_col3\" class=\"data row35 col3\" >0</td>\n",
       "      <td id=\"T_0d861_row35_col4\" class=\"data row35 col4\" >0</td>\n",
       "      <td id=\"T_0d861_row35_col5\" class=\"data row35 col5\" >0</td>\n",
       "    </tr>\n",
       "    <tr>\n",
       "      <th id=\"T_0d861_level0_row36\" class=\"row_heading level0 row36\" >26</th>\n",
       "      <td id=\"T_0d861_row36_col0\" class=\"data row36 col0\" >0</td>\n",
       "      <td id=\"T_0d861_row36_col1\" class=\"data row36 col1\" >txmoonshine</td>\n",
       "      <td id=\"T_0d861_row36_col2\" class=\"data row36 col2\" >0</td>\n",
       "      <td id=\"T_0d861_row36_col3\" class=\"data row36 col3\" >0</td>\n",
       "      <td id=\"T_0d861_row36_col4\" class=\"data row36 col4\" >0</td>\n",
       "      <td id=\"T_0d861_row36_col5\" class=\"data row36 col5\" >0</td>\n",
       "    </tr>\n",
       "    <tr>\n",
       "      <th id=\"T_0d861_level0_row37\" class=\"row_heading level0 row37\" >25</th>\n",
       "      <td id=\"T_0d861_row37_col0\" class=\"data row37 col0\" >0</td>\n",
       "      <td id=\"T_0d861_row37_col1\" class=\"data row37 col1\" >Putt Pirates</td>\n",
       "      <td id=\"T_0d861_row37_col2\" class=\"data row37 col2\" >0</td>\n",
       "      <td id=\"T_0d861_row37_col3\" class=\"data row37 col3\" >0</td>\n",
       "      <td id=\"T_0d861_row37_col4\" class=\"data row37 col4\" >0</td>\n",
       "      <td id=\"T_0d861_row37_col5\" class=\"data row37 col5\" >0</td>\n",
       "    </tr>\n",
       "    <tr>\n",
       "      <th id=\"T_0d861_level0_row38\" class=\"row_heading level0 row38\" >24</th>\n",
       "      <td id=\"T_0d861_row38_col0\" class=\"data row38 col0\" >0</td>\n",
       "      <td id=\"T_0d861_row38_col1\" class=\"data row38 col1\" >Putt Pirates</td>\n",
       "      <td id=\"T_0d861_row38_col2\" class=\"data row38 col2\" >0</td>\n",
       "      <td id=\"T_0d861_row38_col3\" class=\"data row38 col3\" >0</td>\n",
       "      <td id=\"T_0d861_row38_col4\" class=\"data row38 col4\" >0</td>\n",
       "      <td id=\"T_0d861_row38_col5\" class=\"data row38 col5\" >0</td>\n",
       "    </tr>\n",
       "    <tr>\n",
       "      <th id=\"T_0d861_level0_row39\" class=\"row_heading level0 row39\" >22</th>\n",
       "      <td id=\"T_0d861_row39_col0\" class=\"data row39 col0\" >0</td>\n",
       "      <td id=\"T_0d861_row39_col1\" class=\"data row39 col1\" >AlphaWired</td>\n",
       "      <td id=\"T_0d861_row39_col2\" class=\"data row39 col2\" >0</td>\n",
       "      <td id=\"T_0d861_row39_col3\" class=\"data row39 col3\" >0</td>\n",
       "      <td id=\"T_0d861_row39_col4\" class=\"data row39 col4\" >0</td>\n",
       "      <td id=\"T_0d861_row39_col5\" class=\"data row39 col5\" >0</td>\n",
       "    </tr>\n",
       "    <tr>\n",
       "      <th id=\"T_0d861_level0_row40\" class=\"row_heading level0 row40\" >31</th>\n",
       "      <td id=\"T_0d861_row40_col0\" class=\"data row40 col0\" >0</td>\n",
       "      <td id=\"T_0d861_row40_col1\" class=\"data row40 col1\" >txmoonshine</td>\n",
       "      <td id=\"T_0d861_row40_col2\" class=\"data row40 col2\" >0</td>\n",
       "      <td id=\"T_0d861_row40_col3\" class=\"data row40 col3\" >0</td>\n",
       "      <td id=\"T_0d861_row40_col4\" class=\"data row40 col4\" >0</td>\n",
       "      <td id=\"T_0d861_row40_col5\" class=\"data row40 col5\" >0</td>\n",
       "    </tr>\n",
       "    <tr>\n",
       "      <th id=\"T_0d861_level0_row41\" class=\"row_heading level0 row41\" >41</th>\n",
       "      <td id=\"T_0d861_row41_col0\" class=\"data row41 col0\" >Olesen, Thorbjorn</td>\n",
       "      <td id=\"T_0d861_row41_col1\" class=\"data row41 col1\" >New Team 4</td>\n",
       "      <td id=\"T_0d861_row41_col2\" class=\"data row41 col2\" >CUT</td>\n",
       "      <td id=\"T_0d861_row41_col3\" class=\"data row41 col3\" >1</td>\n",
       "      <td id=\"T_0d861_row41_col4\" class=\"data row41 col4\" >0</td>\n",
       "      <td id=\"T_0d861_row41_col5\" class=\"data row41 col5\" >0</td>\n",
       "    </tr>\n",
       "    <tr>\n",
       "      <th id=\"T_0d861_level0_row42\" class=\"row_heading level0 row42\" >42</th>\n",
       "      <td id=\"T_0d861_row42_col0\" class=\"data row42 col0\" >Berger, Daniel</td>\n",
       "      <td id=\"T_0d861_row42_col1\" class=\"data row42 col1\" >Philly919</td>\n",
       "      <td id=\"T_0d861_row42_col2\" class=\"data row42 col2\" >CUT</td>\n",
       "      <td id=\"T_0d861_row42_col3\" class=\"data row42 col3\" >1</td>\n",
       "      <td id=\"T_0d861_row42_col4\" class=\"data row42 col4\" >0</td>\n",
       "      <td id=\"T_0d861_row42_col5\" class=\"data row42 col5\" >0</td>\n",
       "    </tr>\n",
       "    <tr>\n",
       "      <th id=\"T_0d861_level0_row43\" class=\"row_heading level0 row43\" >43</th>\n",
       "      <td id=\"T_0d861_row43_col0\" class=\"data row43 col0\" >Villegas, Camilo</td>\n",
       "      <td id=\"T_0d861_row43_col1\" class=\"data row43 col1\" >New Team 4</td>\n",
       "      <td id=\"T_0d861_row43_col2\" class=\"data row43 col2\" >T67</td>\n",
       "      <td id=\"T_0d861_row43_col3\" class=\"data row43 col3\" >1</td>\n",
       "      <td id=\"T_0d861_row43_col4\" class=\"data row43 col4\" >-3</td>\n",
       "      <td id=\"T_0d861_row43_col5\" class=\"data row43 col5\" >18</td>\n",
       "    </tr>\n",
       "    <tr>\n",
       "      <th id=\"T_0d861_level0_row44\" class=\"row_heading level0 row44\" >44</th>\n",
       "      <td id=\"T_0d861_row44_col0\" class=\"data row44 col0\" >Im, Sungjae</td>\n",
       "      <td id=\"T_0d861_row44_col1\" class=\"data row44 col1\" >Philly919</td>\n",
       "      <td id=\"T_0d861_row44_col2\" class=\"data row44 col2\" >CUT</td>\n",
       "      <td id=\"T_0d861_row44_col3\" class=\"data row44 col3\" >1</td>\n",
       "      <td id=\"T_0d861_row44_col4\" class=\"data row44 col4\" >0</td>\n",
       "      <td id=\"T_0d861_row44_col5\" class=\"data row44 col5\" >0</td>\n",
       "    </tr>\n",
       "    <tr>\n",
       "      <th id=\"T_0d861_level0_row45\" class=\"row_heading level0 row45\" >46</th>\n",
       "      <td id=\"T_0d861_row45_col0\" class=\"data row45 col0\" >Champ, Cameron</td>\n",
       "      <td id=\"T_0d861_row45_col1\" class=\"data row45 col1\" >Sneads Foot</td>\n",
       "      <td id=\"T_0d861_row45_col2\" class=\"data row45 col2\" >CUT</td>\n",
       "      <td id=\"T_0d861_row45_col3\" class=\"data row45 col3\" >3</td>\n",
       "      <td id=\"T_0d861_row45_col4\" class=\"data row45 col4\" >0</td>\n",
       "      <td id=\"T_0d861_row45_col5\" class=\"data row45 col5\" >0</td>\n",
       "    </tr>\n",
       "    <tr>\n",
       "      <th id=\"T_0d861_level0_row46\" class=\"row_heading level0 row46\" >45</th>\n",
       "      <td id=\"T_0d861_row46_col0\" class=\"data row46 col0\" >Bhatia, Akshay</td>\n",
       "      <td id=\"T_0d861_row46_col1\" class=\"data row46 col1\" >New Team 4</td>\n",
       "      <td id=\"T_0d861_row46_col2\" class=\"data row46 col2\" >CUT</td>\n",
       "      <td id=\"T_0d861_row46_col3\" class=\"data row46 col3\" >3</td>\n",
       "      <td id=\"T_0d861_row46_col4\" class=\"data row46 col4\" >0</td>\n",
       "      <td id=\"T_0d861_row46_col5\" class=\"data row46 col5\" >0</td>\n",
       "    </tr>\n",
       "    <tr>\n",
       "      <th id=\"T_0d861_level0_row47\" class=\"row_heading level0 row47\" >47</th>\n",
       "      <td id=\"T_0d861_row47_col0\" class=\"data row47 col0\" >Cole, Eric</td>\n",
       "      <td id=\"T_0d861_row47_col1\" class=\"data row47 col1\" >Team Gamble</td>\n",
       "      <td id=\"T_0d861_row47_col2\" class=\"data row47 col2\" >CUT</td>\n",
       "      <td id=\"T_0d861_row47_col3\" class=\"data row47 col3\" >7</td>\n",
       "      <td id=\"T_0d861_row47_col4\" class=\"data row47 col4\" >0</td>\n",
       "      <td id=\"T_0d861_row47_col5\" class=\"data row47 col5\" >0</td>\n",
       "    </tr>\n",
       "  </tbody>\n",
       "</table>\n"
      ],
      "text/plain": [
       "<pandas.io.formats.style.Styler at 0x25aad811c50>"
      ]
     },
     "execution_count": 94,
     "metadata": {},
     "output_type": "execute_result"
    }
   ],
   "source": [
    "# make leaderboard\n",
    "\n",
    "live_leaderboard = live_merged[['player','team','position','total','round','thru']].fillna(0).sort_values('total')\n",
    "\n",
    "live_leaderboard[['total','round','thru']] = live_leaderboard[['total','round','thru']].astype('int')\n",
    "\n",
    "# live_leaderboard = live_leaderboard.rename(columns={'player':'Player','team':'Team','position':'Pos','total':'Total','round':'Round','thru':'Thru'})\n",
    "\n",
    "def highlight_rows(row):\n",
    "    value = row.loc['Team']\n",
    "    if value == 'unit_circle':\n",
    "        color = '#FF99FF' # Pink\n",
    "    elif value == 'Philly919':\n",
    "        color = '#7f3c8d' # Purple\n",
    "    elif value == 'AlphaWired':\n",
    "        color = '#3969ac' # Blue\n",
    "    elif value == 'Sneads Foot':\n",
    "        color = '#f2b701' # Gold\n",
    "    elif value == 'New Team 4':\n",
    "        color = '#e73f74' # Magenta\n",
    "    elif value == 'Team Gamble':\n",
    "        color = '#e68310' # Orange\n",
    "    elif value == 'txmoonshine':\n",
    "        color = '#00868b' # Aqua\n",
    "    else:\n",
    "        color = '#a5aa99' # Grey\n",
    "    return ['background-color: {}'.format(color) for r in row]\n",
    "\n",
    "live_leaderboard.rename(columns={'player':'Player','team':'Team','position':'Pos','total':'Total','round':'Round','thru':'Thru'}).style.apply(highlight_rows, axis=1)"
   ]
  },
  {
   "cell_type": "code",
   "execution_count": 102,
   "id": "53d6c195",
   "metadata": {},
   "outputs": [
    {
     "data": {
      "text/html": [
       "<style type=\"text/css\">\n",
       "#T_b61b3_row0_col0, #T_b61b3_row0_col1 {\n",
       "  background-color: #3969ac;\n",
       "}\n",
       "#T_b61b3_row1_col0, #T_b61b3_row1_col1 {\n",
       "  background-color: #e73f74;\n",
       "}\n",
       "#T_b61b3_row2_col0, #T_b61b3_row2_col1 {\n",
       "  background-color: #7f3c8d;\n",
       "}\n",
       "#T_b61b3_row3_col0, #T_b61b3_row3_col1 {\n",
       "  background-color: #a5aa99;\n",
       "}\n",
       "#T_b61b3_row4_col0, #T_b61b3_row4_col1 {\n",
       "  background-color: #f2b701;\n",
       "}\n",
       "#T_b61b3_row5_col0, #T_b61b3_row5_col1 {\n",
       "  background-color: #e68310;\n",
       "}\n",
       "#T_b61b3_row6_col0, #T_b61b3_row6_col1 {\n",
       "  background-color: #00868b;\n",
       "}\n",
       "#T_b61b3_row7_col0, #T_b61b3_row7_col1 {\n",
       "  background-color: #FF99FF;\n",
       "}\n",
       "</style>\n",
       "<table id=\"T_b61b3\">\n",
       "  <thead>\n",
       "    <tr>\n",
       "      <th class=\"blank level0\" >&nbsp;</th>\n",
       "      <th id=\"T_b61b3_level0_col0\" class=\"col_heading level0 col0\" >Team</th>\n",
       "      <th id=\"T_b61b3_level0_col1\" class=\"col_heading level0 col1\" >PHR</th>\n",
       "    </tr>\n",
       "  </thead>\n",
       "  <tbody>\n",
       "    <tr>\n",
       "      <th id=\"T_b61b3_level0_row0\" class=\"row_heading level0 row0\" >0</th>\n",
       "      <td id=\"T_b61b3_row0_col0\" class=\"data row0 col0\" >AlphaWired</td>\n",
       "      <td id=\"T_b61b3_row0_col1\" class=\"data row0 col1\" >432</td>\n",
       "    </tr>\n",
       "    <tr>\n",
       "      <th id=\"T_b61b3_level0_row1\" class=\"row_heading level0 row1\" >1</th>\n",
       "      <td id=\"T_b61b3_row1_col0\" class=\"data row1 col0\" >New Team 4</td>\n",
       "      <td id=\"T_b61b3_row1_col1\" class=\"data row1 col1\" >162</td>\n",
       "    </tr>\n",
       "    <tr>\n",
       "      <th id=\"T_b61b3_level0_row2\" class=\"row_heading level0 row2\" >2</th>\n",
       "      <td id=\"T_b61b3_row2_col0\" class=\"data row2 col0\" >Philly919</td>\n",
       "      <td id=\"T_b61b3_row2_col1\" class=\"data row2 col1\" >162</td>\n",
       "    </tr>\n",
       "    <tr>\n",
       "      <th id=\"T_b61b3_level0_row3\" class=\"row_heading level0 row3\" >3</th>\n",
       "      <td id=\"T_b61b3_row3_col0\" class=\"data row3 col0\" >Putt Pirates</td>\n",
       "      <td id=\"T_b61b3_row3_col1\" class=\"data row3 col1\" >360</td>\n",
       "    </tr>\n",
       "    <tr>\n",
       "      <th id=\"T_b61b3_level0_row4\" class=\"row_heading level0 row4\" >4</th>\n",
       "      <td id=\"T_b61b3_row4_col0\" class=\"data row4 col0\" >Sneads Foot</td>\n",
       "      <td id=\"T_b61b3_row4_col1\" class=\"data row4 col1\" >270</td>\n",
       "    </tr>\n",
       "    <tr>\n",
       "      <th id=\"T_b61b3_level0_row5\" class=\"row_heading level0 row5\" >5</th>\n",
       "      <td id=\"T_b61b3_row5_col0\" class=\"data row5 col0\" >Team Gamble</td>\n",
       "      <td id=\"T_b61b3_row5_col1\" class=\"data row5 col1\" >216</td>\n",
       "    </tr>\n",
       "    <tr>\n",
       "      <th id=\"T_b61b3_level0_row6\" class=\"row_heading level0 row6\" >6</th>\n",
       "      <td id=\"T_b61b3_row6_col0\" class=\"data row6 col0\" >txmoonshine</td>\n",
       "      <td id=\"T_b61b3_row6_col1\" class=\"data row6 col1\" >396</td>\n",
       "    </tr>\n",
       "    <tr>\n",
       "      <th id=\"T_b61b3_level0_row7\" class=\"row_heading level0 row7\" >7</th>\n",
       "      <td id=\"T_b61b3_row7_col0\" class=\"data row7 col0\" >unit_circle</td>\n",
       "      <td id=\"T_b61b3_row7_col1\" class=\"data row7 col1\" >360</td>\n",
       "    </tr>\n",
       "  </tbody>\n",
       "</table>\n"
      ],
      "text/plain": [
       "<pandas.io.formats.style.Styler at 0x25aae578ad0>"
      ]
     },
     "execution_count": 102,
     "metadata": {},
     "output_type": "execute_result"
    }
   ],
   "source": [
    "live_phr = live_merged.groupby('team')[['holes_remaining']].sum().reset_index().rename(columns={'team':'Team','holes_remaining':'PHR','total':'To Par'})\n",
    "live_phr.style.apply(highlight_rows, axis=1)"
   ]
  },
  {
   "cell_type": "code",
   "execution_count": 120,
   "id": "868895a9",
   "metadata": {},
   "outputs": [
    {
     "data": {
      "application/vnd.plotly.v1+json": {
       "config": {
        "plotlyServerURL": "https://plot.ly"
       },
       "data": [
        {
         "alignmentgroup": "True",
         "hovertemplate": "variable=total<br>=%{y}<extra></extra>",
         "legendgroup": "total",
         "marker": {
          "color": "rgb(200,200,200)",
          "line": {
           "width": 1.5
          },
          "pattern": {
           "shape": ""
          }
         },
         "name": "total",
         "offsetgroup": "total",
         "opacity": 0.6,
         "orientation": "v",
         "showlegend": true,
         "textposition": "auto",
         "texttemplate": "%{y}",
         "type": "bar",
         "x": [
          "unit_circle",
          "Sneads Foot",
          "Team Gamble",
          "New Team 4",
          "Philly919",
          "txmoonshine",
          "Putt Pirates",
          "AlphaWired"
         ],
         "xaxis": "x",
         "y": [
          -47,
          -35,
          -30,
          -23,
          -15,
          -2,
          -1,
          0
         ],
         "yaxis": "y"
        }
       ],
       "layout": {
        "barmode": "relative",
        "height": 250,
        "legend": {
         "title": {
          "text": "variable"
         },
         "tracegroupgap": 0
        },
        "showlegend": false,
        "template": {
         "data": {
          "pie": [
           {
            "automargin": true,
            "type": "pie"
           }
          ],
          "scatter": [
           {
            "line": {
             "width": 3
            },
            "marker": {
             "size": 9
            },
            "type": "scatter"
           }
          ],
          "scatter3d": [
           {
            "line": {
             "width": 3
            },
            "marker": {
             "size": 9
            },
            "type": "scatter3d"
           }
          ],
          "scattergeo": [
           {
            "line": {
             "width": 3
            },
            "marker": {
             "size": 9
            },
            "type": "scattergeo"
           }
          ],
          "scattergl": [
           {
            "line": {
             "width": 3
            },
            "marker": {
             "size": 9
            },
            "type": "scattergl"
           }
          ],
          "scatterpolar": [
           {
            "line": {
             "width": 3
            },
            "marker": {
             "size": 9
            },
            "type": "scatterpolar"
           }
          ],
          "scatterpolargl": [
           {
            "line": {
             "width": 3
            },
            "marker": {
             "size": 9
            },
            "type": "scatterpolargl"
           }
          ],
          "scatterternary": [
           {
            "line": {
             "width": 3
            },
            "marker": {
             "size": 9
            },
            "type": "scatterternary"
           }
          ],
          "table": [
           {
            "cells": {
             "height": 30
            },
            "header": {
             "height": 36
            },
            "type": "table"
           }
          ]
         },
         "layout": {
          "font": {
           "size": 18
          },
          "xaxis": {
           "title": {
            "standoff": 15
           }
          },
          "yaxis": {
           "title": {
            "standoff": 15
           }
          }
         }
        },
        "title": {
         "text": "Team Score to Par",
         "x": 0.25
        },
        "xaxis": {
         "anchor": "y",
         "domain": [
          0,
          1
         ],
         "title": {
          "text": ""
         }
        },
        "yaxis": {
         "anchor": "x",
         "domain": [
          0,
          1
         ],
         "showgrid": false,
         "showticklabels": false,
         "title": {
          "text": ""
         }
        }
       }
      },
      "text/html": [
       "<div>                            <div id=\"93628ef6-b549-4758-a3f3-1d31fddd7ca4\" class=\"plotly-graph-div\" style=\"height:250px; width:100%;\"></div>            <script type=\"text/javascript\">                require([\"plotly\"], function(Plotly) {                    window.PLOTLYENV=window.PLOTLYENV || {};                                    if (document.getElementById(\"93628ef6-b549-4758-a3f3-1d31fddd7ca4\")) {                    Plotly.newPlot(                        \"93628ef6-b549-4758-a3f3-1d31fddd7ca4\",                        [{\"alignmentgroup\":\"True\",\"hovertemplate\":\"variable=total<br>=%{y}<extra></extra>\",\"legendgroup\":\"total\",\"marker\":{\"color\":\"rgb(200,200,200)\",\"pattern\":{\"shape\":\"\"},\"line\":{\"width\":1.5}},\"name\":\"total\",\"offsetgroup\":\"total\",\"orientation\":\"v\",\"showlegend\":true,\"textposition\":\"auto\",\"texttemplate\":\"%{y}\",\"x\":[\"unit_circle\",\"Sneads Foot\",\"Team Gamble\",\"New Team 4\",\"Philly919\",\"txmoonshine\",\"Putt Pirates\",\"AlphaWired\"],\"xaxis\":\"x\",\"y\":[-47,-35,-30,-23,-15,-2,-1,0],\"yaxis\":\"y\",\"type\":\"bar\",\"opacity\":0.6}],                        {\"template\":{\"data\":{\"pie\":[{\"automargin\":true,\"type\":\"pie\"}],\"scatter3d\":[{\"line\":{\"width\":3},\"marker\":{\"size\":9},\"type\":\"scatter3d\"}],\"scattergeo\":[{\"line\":{\"width\":3},\"marker\":{\"size\":9},\"type\":\"scattergeo\"}],\"scattergl\":[{\"line\":{\"width\":3},\"marker\":{\"size\":9},\"type\":\"scattergl\"}],\"scatterpolargl\":[{\"line\":{\"width\":3},\"marker\":{\"size\":9},\"type\":\"scatterpolargl\"}],\"scatterpolar\":[{\"line\":{\"width\":3},\"marker\":{\"size\":9},\"type\":\"scatterpolar\"}],\"scatter\":[{\"line\":{\"width\":3},\"marker\":{\"size\":9},\"type\":\"scatter\"}],\"scatterternary\":[{\"line\":{\"width\":3},\"marker\":{\"size\":9},\"type\":\"scatterternary\"}],\"table\":[{\"cells\":{\"height\":30},\"header\":{\"height\":36},\"type\":\"table\"}]},\"layout\":{\"font\":{\"size\":18},\"xaxis\":{\"title\":{\"standoff\":15}},\"yaxis\":{\"title\":{\"standoff\":15}}}},\"xaxis\":{\"anchor\":\"y\",\"domain\":[0.0,1.0],\"title\":{\"text\":\"\"}},\"yaxis\":{\"anchor\":\"x\",\"domain\":[0.0,1.0],\"title\":{\"text\":\"\"},\"showticklabels\":false,\"showgrid\":false},\"legend\":{\"title\":{\"text\":\"variable\"},\"tracegroupgap\":0},\"title\":{\"text\":\"Team Score to Par\",\"x\":0.25},\"barmode\":\"relative\",\"height\":250,\"showlegend\":false},                        {\"responsive\": true}                    ).then(function(){\n",
       "                            \n",
       "var gd = document.getElementById('93628ef6-b549-4758-a3f3-1d31fddd7ca4');\n",
       "var x = new MutationObserver(function (mutations, observer) {{\n",
       "        var display = window.getComputedStyle(gd).display;\n",
       "        if (!display || display === 'none') {{\n",
       "            console.log([gd, 'removed!']);\n",
       "            Plotly.purge(gd);\n",
       "            observer.disconnect();\n",
       "        }}\n",
       "}});\n",
       "\n",
       "// Listen for the removal of the full notebook cells\n",
       "var notebookContainer = gd.closest('#notebook-container');\n",
       "if (notebookContainer) {{\n",
       "    x.observe(notebookContainer, {childList: true});\n",
       "}}\n",
       "\n",
       "// Listen for the clearing of the current output cell\n",
       "var outputEl = gd.closest('.output');\n",
       "if (outputEl) {{\n",
       "    x.observe(outputEl, {childList: true});\n",
       "}}\n",
       "\n",
       "                        })                };                });            </script>        </div>"
      ]
     },
     "metadata": {},
     "output_type": "display_data"
    }
   ],
   "source": [
    "# Team Score bar\n",
    "\n",
    "thru_cut_df = live_leaderboard.groupby('team')['total'].sum().sort_values()#.rename(columns={'team':'thruCut'})\n",
    "\n",
    "thru_cut_bar = px.bar(thru_cut_df,\n",
    "                     template='presentation',\n",
    "                     labels={'value':'','team':''},\n",
    "                     text_auto=True,\n",
    "                     height=250,\n",
    "                     title='Team Score to Par')\n",
    "\n",
    "thru_cut_bar.update_layout(showlegend=False,title_x=.25)\n",
    "thru_cut_bar.update_yaxes(showticklabels=False,showgrid=False)\n",
    "thru_cut_bar.update_traces(marker_color='rgb(200,200,200)',marker_line_width=1.5, opacity=0.6)\n",
    "\n",
    "thru_cut_bar.show()"
   ]
  },
  {
   "cell_type": "code",
   "execution_count": 108,
   "id": "0a446468",
   "metadata": {},
   "outputs": [
    {
     "data": {
      "application/vnd.plotly.v1+json": {
       "config": {
        "plotlyServerURL": "https://plot.ly"
       },
       "data": [
        {
         "alignmentgroup": "True",
         "hovertemplate": "variable=team<br>=%{y}<extra></extra>",
         "legendgroup": "team",
         "marker": {
          "color": "rgb(200,200,200)",
          "line": {
           "width": 1.5
          },
          "pattern": {
           "shape": ""
          }
         },
         "name": "team",
         "offsetgroup": "team",
         "opacity": 0.6,
         "orientation": "v",
         "showlegend": true,
         "textposition": "auto",
         "texttemplate": "%{y}",
         "type": "bar",
         "x": [
          "unit_circle",
          "txmoonshine",
          "AlphaWired",
          "Sneads Foot",
          "Putt Pirates",
          "Team Gamble",
          "New Team 4",
          "Philly919"
         ],
         "xaxis": "x",
         "y": [
          6,
          6,
          6,
          5,
          5,
          4,
          3,
          3
         ],
         "yaxis": "y"
        }
       ],
       "layout": {
        "barmode": "relative",
        "height": 250,
        "legend": {
         "title": {
          "text": "variable"
         },
         "tracegroupgap": 0
        },
        "showlegend": false,
        "template": {
         "data": {
          "pie": [
           {
            "automargin": true,
            "type": "pie"
           }
          ],
          "scatter": [
           {
            "line": {
             "width": 3
            },
            "marker": {
             "size": 9
            },
            "type": "scatter"
           }
          ],
          "scatter3d": [
           {
            "line": {
             "width": 3
            },
            "marker": {
             "size": 9
            },
            "type": "scatter3d"
           }
          ],
          "scattergeo": [
           {
            "line": {
             "width": 3
            },
            "marker": {
             "size": 9
            },
            "type": "scattergeo"
           }
          ],
          "scattergl": [
           {
            "line": {
             "width": 3
            },
            "marker": {
             "size": 9
            },
            "type": "scattergl"
           }
          ],
          "scatterpolar": [
           {
            "line": {
             "width": 3
            },
            "marker": {
             "size": 9
            },
            "type": "scatterpolar"
           }
          ],
          "scatterpolargl": [
           {
            "line": {
             "width": 3
            },
            "marker": {
             "size": 9
            },
            "type": "scatterpolargl"
           }
          ],
          "scatterternary": [
           {
            "line": {
             "width": 3
            },
            "marker": {
             "size": 9
            },
            "type": "scatterternary"
           }
          ],
          "table": [
           {
            "cells": {
             "height": 30
            },
            "header": {
             "height": 36
            },
            "type": "table"
           }
          ]
         },
         "layout": {
          "font": {
           "size": 18
          },
          "xaxis": {
           "title": {
            "standoff": 15
           }
          },
          "yaxis": {
           "title": {
            "standoff": 15
           }
          }
         }
        },
        "title": {
         "text": "Players Thru the Cut",
         "x": 0.25
        },
        "xaxis": {
         "anchor": "y",
         "domain": [
          0,
          1
         ],
         "title": {
          "text": ""
         }
        },
        "yaxis": {
         "anchor": "x",
         "domain": [
          0,
          1
         ],
         "showgrid": false,
         "showticklabels": false,
         "title": {
          "text": ""
         },
         "type": "log"
        }
       }
      },
      "text/html": [
       "<div>                            <div id=\"0cb79444-bf02-4724-9d71-5624dfcc7a93\" class=\"plotly-graph-div\" style=\"height:250px; width:100%;\"></div>            <script type=\"text/javascript\">                require([\"plotly\"], function(Plotly) {                    window.PLOTLYENV=window.PLOTLYENV || {};                                    if (document.getElementById(\"0cb79444-bf02-4724-9d71-5624dfcc7a93\")) {                    Plotly.newPlot(                        \"0cb79444-bf02-4724-9d71-5624dfcc7a93\",                        [{\"alignmentgroup\":\"True\",\"hovertemplate\":\"variable=team<br>=%{y}<extra></extra>\",\"legendgroup\":\"team\",\"marker\":{\"color\":\"rgb(200,200,200)\",\"pattern\":{\"shape\":\"\"},\"line\":{\"width\":1.5}},\"name\":\"team\",\"offsetgroup\":\"team\",\"orientation\":\"v\",\"showlegend\":true,\"textposition\":\"auto\",\"texttemplate\":\"%{y}\",\"x\":[\"unit_circle\",\"txmoonshine\",\"AlphaWired\",\"Sneads Foot\",\"Putt Pirates\",\"Team Gamble\",\"New Team 4\",\"Philly919\"],\"xaxis\":\"x\",\"y\":[6,6,6,5,5,4,3,3],\"yaxis\":\"y\",\"type\":\"bar\",\"opacity\":0.6}],                        {\"template\":{\"data\":{\"pie\":[{\"automargin\":true,\"type\":\"pie\"}],\"scatter3d\":[{\"line\":{\"width\":3},\"marker\":{\"size\":9},\"type\":\"scatter3d\"}],\"scattergeo\":[{\"line\":{\"width\":3},\"marker\":{\"size\":9},\"type\":\"scattergeo\"}],\"scattergl\":[{\"line\":{\"width\":3},\"marker\":{\"size\":9},\"type\":\"scattergl\"}],\"scatterpolargl\":[{\"line\":{\"width\":3},\"marker\":{\"size\":9},\"type\":\"scatterpolargl\"}],\"scatterpolar\":[{\"line\":{\"width\":3},\"marker\":{\"size\":9},\"type\":\"scatterpolar\"}],\"scatter\":[{\"line\":{\"width\":3},\"marker\":{\"size\":9},\"type\":\"scatter\"}],\"scatterternary\":[{\"line\":{\"width\":3},\"marker\":{\"size\":9},\"type\":\"scatterternary\"}],\"table\":[{\"cells\":{\"height\":30},\"header\":{\"height\":36},\"type\":\"table\"}]},\"layout\":{\"font\":{\"size\":18},\"xaxis\":{\"title\":{\"standoff\":15}},\"yaxis\":{\"title\":{\"standoff\":15}}}},\"xaxis\":{\"anchor\":\"y\",\"domain\":[0.0,1.0],\"title\":{\"text\":\"\"}},\"yaxis\":{\"anchor\":\"x\",\"domain\":[0.0,1.0],\"title\":{\"text\":\"\"},\"type\":\"log\",\"showticklabels\":false,\"showgrid\":false},\"legend\":{\"title\":{\"text\":\"variable\"},\"tracegroupgap\":0},\"title\":{\"text\":\"Players Thru the Cut\",\"x\":0.25},\"barmode\":\"relative\",\"height\":250,\"showlegend\":false},                        {\"responsive\": true}                    ).then(function(){\n",
       "                            \n",
       "var gd = document.getElementById('0cb79444-bf02-4724-9d71-5624dfcc7a93');\n",
       "var x = new MutationObserver(function (mutations, observer) {{\n",
       "        var display = window.getComputedStyle(gd).display;\n",
       "        if (!display || display === 'none') {{\n",
       "            console.log([gd, 'removed!']);\n",
       "            Plotly.purge(gd);\n",
       "            observer.disconnect();\n",
       "        }}\n",
       "}});\n",
       "\n",
       "// Listen for the removal of the full notebook cells\n",
       "var notebookContainer = gd.closest('#notebook-container');\n",
       "if (notebookContainer) {{\n",
       "    x.observe(notebookContainer, {childList: true});\n",
       "}}\n",
       "\n",
       "// Listen for the clearing of the current output cell\n",
       "var outputEl = gd.closest('.output');\n",
       "if (outputEl) {{\n",
       "    x.observe(outputEl, {childList: true});\n",
       "}}\n",
       "\n",
       "                        })                };                });            </script>        </div>"
      ]
     },
     "metadata": {},
     "output_type": "display_data"
    }
   ],
   "source": [
    "# Thru Cut Bar\n",
    "\n",
    "thru_cut_df = live_leaderboard[live_leaderboard.position!='CUT']['team'].value_counts()#.rename(columns={'team':'thruCut'})\n",
    "\n",
    "thru_cut_bar = px.bar(thru_cut_df,\n",
    "                 template='presentation',\n",
    "                 labels={'value':'','index':''},\n",
    "                 text_auto=True,\n",
    "                 height=250,\n",
    "                 log_y=True,\n",
    "                 title='Players Thru the Cut')\n",
    "\n",
    "thru_cut_bar.update_layout(showlegend=False,title_x=.25)\n",
    "thru_cut_bar.update_yaxes(showticklabels=False,showgrid=False)\n",
    "thru_cut_bar.update_traces(marker_color='rgb(200,200,200)',marker_line_width=1.5, opacity=0.6)"
   ]
  },
  {
   "cell_type": "code",
   "execution_count": 121,
   "id": "514beff2",
   "metadata": {},
   "outputs": [
    {
     "name": "stdout",
     "output_type": "stream",
     "text": [
      "unit_circle has 360 Holes Remaining\n"
     ]
    },
    {
     "data": {
      "text/html": [
       "<div>\n",
       "<style scoped>\n",
       "    .dataframe tbody tr th:only-of-type {\n",
       "        vertical-align: middle;\n",
       "    }\n",
       "\n",
       "    .dataframe tbody tr th {\n",
       "        vertical-align: top;\n",
       "    }\n",
       "\n",
       "    .dataframe thead th {\n",
       "        text-align: right;\n",
       "    }\n",
       "</style>\n",
       "<table border=\"1\" class=\"dataframe\">\n",
       "  <thead>\n",
       "    <tr style=\"text-align: right;\">\n",
       "      <th></th>\n",
       "      <th>player</th>\n",
       "      <th>position</th>\n",
       "      <th>total</th>\n",
       "      <th>round</th>\n",
       "      <th>thru</th>\n",
       "      <th>sg_putt</th>\n",
       "      <th>sg_t2g</th>\n",
       "      <th>sg_total</th>\n",
       "      <th>gir</th>\n",
       "    </tr>\n",
       "  </thead>\n",
       "  <tbody>\n",
       "    <tr>\n",
       "      <th>0</th>\n",
       "      <td>Lee, Min Woo</td>\n",
       "      <td>T2</td>\n",
       "      <td>-14.0</td>\n",
       "      <td>-4.0</td>\n",
       "      <td>18.0</td>\n",
       "      <td>0.24</td>\n",
       "      <td>2.17</td>\n",
       "      <td>2.42</td>\n",
       "      <td>0.64</td>\n",
       "    </tr>\n",
       "    <tr>\n",
       "      <th>2</th>\n",
       "      <td>Knapp, Jake</td>\n",
       "      <td>T4</td>\n",
       "      <td>-13.0</td>\n",
       "      <td>-5.0</td>\n",
       "      <td>18.0</td>\n",
       "      <td>0.37</td>\n",
       "      <td>1.80</td>\n",
       "      <td>2.16</td>\n",
       "      <td>0.71</td>\n",
       "    </tr>\n",
       "    <tr>\n",
       "      <th>3</th>\n",
       "      <td>Lowry, Shane</td>\n",
       "      <td>T4</td>\n",
       "      <td>-13.0</td>\n",
       "      <td>0.0</td>\n",
       "      <td>18.0</td>\n",
       "      <td>0.83</td>\n",
       "      <td>1.34</td>\n",
       "      <td>2.16</td>\n",
       "      <td>0.81</td>\n",
       "    </tr>\n",
       "    <tr>\n",
       "      <th>12</th>\n",
       "      <td>Conners, Corey</td>\n",
       "      <td>T41</td>\n",
       "      <td>-7.0</td>\n",
       "      <td>-5.0</td>\n",
       "      <td>18.0</td>\n",
       "      <td>-0.61</td>\n",
       "      <td>1.27</td>\n",
       "      <td>0.66</td>\n",
       "      <td>0.76</td>\n",
       "    </tr>\n",
       "    <tr>\n",
       "      <th>29</th>\n",
       "      <td>0</td>\n",
       "      <td>0</td>\n",
       "      <td>0.0</td>\n",
       "      <td>0.0</td>\n",
       "      <td>0.0</td>\n",
       "      <td>0.00</td>\n",
       "      <td>0.00</td>\n",
       "      <td>0.00</td>\n",
       "      <td>0.00</td>\n",
       "    </tr>\n",
       "    <tr>\n",
       "      <th>36</th>\n",
       "      <td>0</td>\n",
       "      <td>0</td>\n",
       "      <td>0.0</td>\n",
       "      <td>0.0</td>\n",
       "      <td>0.0</td>\n",
       "      <td>0.00</td>\n",
       "      <td>0.00</td>\n",
       "      <td>0.00</td>\n",
       "      <td>0.00</td>\n",
       "    </tr>\n",
       "  </tbody>\n",
       "</table>\n",
       "</div>"
      ],
      "text/plain": [
       "            player position  total  round  thru  sg_putt  sg_t2g  sg_total  \\\n",
       "0     Lee, Min Woo       T2  -14.0   -4.0  18.0     0.24    2.17      2.42   \n",
       "2      Knapp, Jake       T4  -13.0   -5.0  18.0     0.37    1.80      2.16   \n",
       "3     Lowry, Shane       T4  -13.0    0.0  18.0     0.83    1.34      2.16   \n",
       "12  Conners, Corey      T41   -7.0   -5.0  18.0    -0.61    1.27      0.66   \n",
       "29               0        0    0.0    0.0   0.0     0.00    0.00      0.00   \n",
       "36               0        0    0.0    0.0   0.0     0.00    0.00      0.00   \n",
       "\n",
       "     gir  \n",
       "0   0.64  \n",
       "2   0.71  \n",
       "3   0.81  \n",
       "12  0.76  \n",
       "29  0.00  \n",
       "36  0.00  "
      ]
     },
     "execution_count": 121,
     "metadata": {},
     "output_type": "execute_result"
    }
   ],
   "source": [
    "print(f\"unit_circle has {live_merged[live_merged.team=='unit_circle']['holes_remaining'].sum()} Holes Remaining\")\n",
    "live_merged[live_merged.team=='unit_circle'].drop(columns=['holes_remaining','team'])"
   ]
  },
  {
   "cell_type": "code",
   "execution_count": null,
   "id": "ebd589fb",
   "metadata": {},
   "outputs": [],
   "source": [
    "# live look at all 48 active players with player as index\n",
    "\n",
    "print(f\"Philly919 has {live_merged[live_merged.team=='Philly919']['holes_remaining'].sum()} Holes Remaining\")\n",
    "live_merged[live_merged.team=='Philly919'].drop(columns=['holes_remaining','team'])"
   ]
  },
  {
   "cell_type": "code",
   "execution_count": null,
   "id": "7ebbb0ab",
   "metadata": {},
   "outputs": [],
   "source": [
    "# live look at all 48 active players with player as index\n",
    "\n",
    "print(f\"Team Gamble has {live_merged[live_merged.team=='Team Gamble']['holes_remaining'].sum()} Holes Remaining\")\n",
    "live_merged[live_merged.team=='Team Gamble'].drop(columns=['holes_remaining','team'])"
   ]
  },
  {
   "cell_type": "code",
   "execution_count": null,
   "id": "49088826",
   "metadata": {},
   "outputs": [],
   "source": [
    "# live look at all 48 active players with player as index\n",
    "\n",
    "print(f\"New Team 4 has {live_merged[live_merged.team=='New Team 4']['holes_remaining'].sum()} Holes Remaining\")\n",
    "live_merged[live_merged.team=='New Team 4'].drop(columns=['holes_remaining','team'])"
   ]
  },
  {
   "cell_type": "code",
   "execution_count": 158,
   "id": "3e5f3500",
   "metadata": {},
   "outputs": [
    {
     "data": {
      "text/plain": [
       "Index(['Patrick Cantlay', 'Tommy Fleetwood', 'Min Woo Lee', 'Corey Conners',\n",
       "       'Shane Lowry', 'Jake Knapp'],\n",
       "      dtype='object', name='player')"
      ]
     },
     "execution_count": 158,
     "metadata": {},
     "output_type": "execute_result"
    }
   ],
   "source": [
    "unit_circle = teams.loc[(teams.team=='unit_circle') & (teams.active_reserve=='Active')].index\n",
    "\n",
    "live['thru_hp'] = live['thru'] + 18\n",
    "\n",
    "# live[live.player.isin([unit_circle])]#[['player','total','round','thru','thru_hp']].reset_index(drop=True)"
   ]
  },
  {
   "cell_type": "code",
   "execution_count": 163,
   "id": "e9a7c9e4",
   "metadata": {},
   "outputs": [
    {
     "data": {
      "text/html": [
       "<div>\n",
       "<style scoped>\n",
       "    .dataframe tbody tr th:only-of-type {\n",
       "        vertical-align: middle;\n",
       "    }\n",
       "\n",
       "    .dataframe tbody tr th {\n",
       "        vertical-align: top;\n",
       "    }\n",
       "\n",
       "    .dataframe thead th {\n",
       "        text-align: right;\n",
       "    }\n",
       "</style>\n",
       "<table border=\"1\" class=\"dataframe\">\n",
       "  <thead>\n",
       "    <tr style=\"text-align: right;\">\n",
       "      <th></th>\n",
       "      <th>AlphaWired</th>\n",
       "      <th>unit_circle</th>\n",
       "      <th>Team Gamble</th>\n",
       "      <th>txmoonshine</th>\n",
       "      <th>Philly919</th>\n",
       "      <th>Sneads Foot</th>\n",
       "      <th>Putt Pirates</th>\n",
       "      <th>New Team 4</th>\n",
       "    </tr>\n",
       "  </thead>\n",
       "  <tbody>\n",
       "    <tr>\n",
       "      <th>0</th>\n",
       "      <td>Sam Burns</td>\n",
       "      <td>Patrick Cantlay</td>\n",
       "      <td>Eric Cole</td>\n",
       "      <td>Tom Kim</td>\n",
       "      <td>Luke List</td>\n",
       "      <td>Rory McIlroy</td>\n",
       "      <td>Scottie Scheffler</td>\n",
       "      <td>Cameron Young</td>\n",
       "    </tr>\n",
       "    <tr>\n",
       "      <th>1</th>\n",
       "      <td>Xander Schauffele</td>\n",
       "      <td>Tommy Fleetwood</td>\n",
       "      <td>Byeong Hun An</td>\n",
       "      <td>Collin Morikawa</td>\n",
       "      <td>Sungjae Im</td>\n",
       "      <td>Rickie Fowler</td>\n",
       "      <td>Sahith Theegala</td>\n",
       "      <td>Erik Van Rooyen</td>\n",
       "    </tr>\n",
       "    <tr>\n",
       "      <th>2</th>\n",
       "      <td>Jordan Spieth</td>\n",
       "      <td>Min Woo Lee</td>\n",
       "      <td>Stephan Jaeger</td>\n",
       "      <td>J.T. Poston</td>\n",
       "      <td>Russell Henley</td>\n",
       "      <td>Sam Ryder</td>\n",
       "      <td>Will Zalatoris</td>\n",
       "      <td>Akshay Bhatia</td>\n",
       "    </tr>\n",
       "    <tr>\n",
       "      <th>3</th>\n",
       "      <td>Jason Day</td>\n",
       "      <td>Corey Conners</td>\n",
       "      <td>Matthieu Pavon</td>\n",
       "      <td>Matthew Fitzpatrick</td>\n",
       "      <td>Chris Kirk</td>\n",
       "      <td>Cameron Champ</td>\n",
       "      <td>Emiliano Grillo</td>\n",
       "      <td>Justin Suh</td>\n",
       "    </tr>\n",
       "    <tr>\n",
       "      <th>4</th>\n",
       "      <td>Brian Harman</td>\n",
       "      <td>Shane Lowry</td>\n",
       "      <td>Tom Hoge</td>\n",
       "      <td>Keegan Bradley</td>\n",
       "      <td>Justin Rose</td>\n",
       "      <td>Nick Dunlap</td>\n",
       "      <td>Christiaan Bezuidenhout</td>\n",
       "      <td>Camilo Villegas</td>\n",
       "    </tr>\n",
       "    <tr>\n",
       "      <th>5</th>\n",
       "      <td>Harris English</td>\n",
       "      <td>Jake Knapp</td>\n",
       "      <td>Chesson Hadley</td>\n",
       "      <td>Nicolai Hojgaard</td>\n",
       "      <td>Daniel Berger</td>\n",
       "      <td>Parker Coody</td>\n",
       "      <td>Kurt Kitayama</td>\n",
       "      <td>Thorbjorn Olesen</td>\n",
       "    </tr>\n",
       "  </tbody>\n",
       "</table>\n",
       "</div>"
      ],
      "text/plain": [
       "          AlphaWired      unit_circle     Team Gamble          txmoonshine  \\\n",
       "0          Sam Burns  Patrick Cantlay       Eric Cole              Tom Kim   \n",
       "1  Xander Schauffele  Tommy Fleetwood   Byeong Hun An      Collin Morikawa   \n",
       "2      Jordan Spieth      Min Woo Lee  Stephan Jaeger          J.T. Poston   \n",
       "3          Jason Day    Corey Conners  Matthieu Pavon  Matthew Fitzpatrick   \n",
       "4       Brian Harman      Shane Lowry        Tom Hoge       Keegan Bradley   \n",
       "5     Harris English       Jake Knapp  Chesson Hadley     Nicolai Hojgaard   \n",
       "\n",
       "        Philly919    Sneads Foot             Putt Pirates        New Team 4  \n",
       "0       Luke List   Rory McIlroy        Scottie Scheffler     Cameron Young  \n",
       "1      Sungjae Im  Rickie Fowler          Sahith Theegala   Erik Van Rooyen  \n",
       "2  Russell Henley      Sam Ryder           Will Zalatoris     Akshay Bhatia  \n",
       "3      Chris Kirk  Cameron Champ          Emiliano Grillo        Justin Suh  \n",
       "4     Justin Rose    Nick Dunlap  Christiaan Bezuidenhout   Camilo Villegas  \n",
       "5   Daniel Berger   Parker Coody            Kurt Kitayama  Thorbjorn Olesen  "
      ]
     },
     "execution_count": 163,
     "metadata": {},
     "output_type": "execute_result"
    }
   ],
   "source": [
    "active_rosters = []\n",
    "\n",
    "for team in teams.team.unique():\n",
    "    one_roster = teams.loc[(teams.team==team) & (teams.active_reserve=='Active')].index\n",
    "    active_rosters.append(one_roster)\n",
    "\n",
    "cols = teams.team.unique()\n",
    "active_rosters = pd.DataFrame(active_rosters, index=cols).T\n",
    "active_rosters"
   ]
  },
  {
   "cell_type": "code",
   "execution_count": null,
   "id": "bbd9f8c2",
   "metadata": {},
   "outputs": [],
   "source": []
  }
 ],
 "metadata": {
  "kernelspec": {
   "display_name": "Python 3 (ipykernel)",
   "language": "python",
   "name": "python3"
  },
  "language_info": {
   "codemirror_mode": {
    "name": "ipython",
    "version": 3
   },
   "file_extension": ".py",
   "mimetype": "text/x-python",
   "name": "python",
   "nbconvert_exporter": "python",
   "pygments_lexer": "ipython3",
   "version": "3.11.5"
  }
 },
 "nbformat": 4,
 "nbformat_minor": 5
}
